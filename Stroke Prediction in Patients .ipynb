{
 "cells": [
  {
   "cell_type": "markdown",
   "id": "7045b171",
   "metadata": {},
   "source": [
    "# Stroke Prediction in Patients  "
   ]
  },
  {
   "cell_type": "markdown",
   "id": "64c1ce1d",
   "metadata": {},
   "source": [
    "Stroke is a blood clot or bleeding in the brain which can cause long-term neurological damage and complications. stroke doesn't only cost medical financial burden and permanent disability but can eventually lead to death. Prevention and early detection of a stroke risk has many benefits on the patient and healthcare system.\n",
    "\n",
    "This project predicts whether a person is at risk of having a stroke or not. They will get benefit from this project Patients and healthcare workers.\n"
   ]
  },
  {
   "cell_type": "markdown",
   "id": "86a3f5e2",
   "metadata": {},
   "source": [
    "# Importing Libraries"
   ]
  },
  {
   "cell_type": "code",
   "execution_count": 1408,
   "id": "9d6a100c",
   "metadata": {},
   "outputs": [],
   "source": [
    "import pandas as pd\n",
    "import numpy as np\n",
    "import matplotlib.pyplot as plt\n",
    "import seaborn as sns\n",
    "##################################\n",
    "from sklearn.impute import KNNImputer\n",
    "from sklearn.impute import SimpleImputer\n",
    "from sklearn.model_selection import train_test_split\n",
    "from sklearn.preprocessing import StandardScaler  \n",
    "from sklearn.metrics import f1_score\n",
    "from sklearn.metrics import confusion_matrix\n",
    "from imblearn.over_sampling import SMOTE\n",
    "from sklearn.model_selection import  cross_val_score\n",
    "##################################\n",
    "from sklearn.tree import DecisionTreeClassifier\n",
    "from sklearn.ensemble import RandomForestClassifier\n",
    "from sklearn.svm import SVC\n",
    "from sklearn.neighbors import KNeighborsClassifier\n",
    "from sklearn.linear_model import LogisticRegression\n",
    "from sklearn.naive_bayes import GaussianNB\n",
    "from sklearn.svm import LinearSVC\n",
    "from sklearn.neural_network import MLPClassifier\n",
    "from sklearn.ensemble import GradientBoostingClassifier\n",
    "from catboost import CatBoostClassifier\n",
    "from lightgbm import LGBMClassifier\n",
    "from xgboost import XGBClassifier\n",
    "from sklearn.cluster import KMeans \n",
    "##################################\n",
    "from imblearn.over_sampling import SMOTE\n",
    "#####################################\n",
    "import warnings\n",
    "warnings.filterwarnings(action='ignore')"
   ]
  },
  {
   "cell_type": "markdown",
   "id": "158ee805",
   "metadata": {},
   "source": [
    "# Read Dataset "
   ]
  },
  {
   "cell_type": "markdown",
   "id": "d5959228",
   "metadata": {},
   "source": [
    "The dataset source is Kaggle."
   ]
  },
  {
   "cell_type": "code",
   "execution_count": 1409,
   "id": "394d41b6",
   "metadata": {},
   "outputs": [],
   "source": [
    "d=pd.read_csv('healthcare-dataset-stroke-data.csv')"
   ]
  },
  {
   "cell_type": "markdown",
   "id": "f83870d8",
   "metadata": {},
   "source": [
    "# Explore Data Set"
   ]
  },
  {
   "cell_type": "markdown",
   "id": "370001f1",
   "metadata": {},
   "source": [
    "It is containing 5110 records and12 features. Record contains patient information and if patient had a stroke or not. Target features (stroke)=1 if the patient had a stroke or 0 if not."
   ]
  },
  {
   "cell_type": "markdown",
   "id": "1aa5accd",
   "metadata": {},
   "source": [
    "Features:\n",
    "\n",
    "1- id: Unique id.\n",
    "2- gender: \"Male \"or \"Female\"or \"Other\".\n",
    "3- age: age of the patient.\n",
    "4- hypertension: binary feature (0 if the patient doesn't have hypertension,1 if the patient has hypertension).\n",
    "5- heart_disease: binary feature (0 if the patient doesn't have any heart diseases,1 if the patient has heart diseases.\n",
    "6- ever_married:\"Yes\" or \"No\".\n",
    "7- work_type:\" children\",\" Private\",\" Self-employed',\" Govt_job\" or \" Never_worked\".\n",
    "8- Residence_type:\" Rural\" or \" Urban\".\n",
    "9- avg_glucose_level: Average glucose level in blood.\n",
    "10- bmi: Body Mass Index.\n",
    "11-smoking_status:\" never smoked\",\" formerly smoked\",\" smokes\",\" Unknown\".\n",
    "12- stroke:1 if the patient had a stroke or 0 if not."
   ]
  },
  {
   "cell_type": "code",
   "execution_count": 1410,
   "id": "98005d0d",
   "metadata": {},
   "outputs": [
    {
     "data": {
      "text/html": [
       "<div>\n",
       "<style scoped>\n",
       "    .dataframe tbody tr th:only-of-type {\n",
       "        vertical-align: middle;\n",
       "    }\n",
       "\n",
       "    .dataframe tbody tr th {\n",
       "        vertical-align: top;\n",
       "    }\n",
       "\n",
       "    .dataframe thead th {\n",
       "        text-align: right;\n",
       "    }\n",
       "</style>\n",
       "<table border=\"1\" class=\"dataframe\">\n",
       "  <thead>\n",
       "    <tr style=\"text-align: right;\">\n",
       "      <th></th>\n",
       "      <th>id</th>\n",
       "      <th>gender</th>\n",
       "      <th>age</th>\n",
       "      <th>hypertension</th>\n",
       "      <th>heart_disease</th>\n",
       "      <th>ever_married</th>\n",
       "      <th>work_type</th>\n",
       "      <th>Residence_type</th>\n",
       "      <th>avg_glucose_level</th>\n",
       "      <th>bmi</th>\n",
       "      <th>smoking_status</th>\n",
       "      <th>stroke</th>\n",
       "    </tr>\n",
       "  </thead>\n",
       "  <tbody>\n",
       "    <tr>\n",
       "      <th>0</th>\n",
       "      <td>9046</td>\n",
       "      <td>Male</td>\n",
       "      <td>67.0</td>\n",
       "      <td>0</td>\n",
       "      <td>1</td>\n",
       "      <td>Yes</td>\n",
       "      <td>Private</td>\n",
       "      <td>Urban</td>\n",
       "      <td>228.69</td>\n",
       "      <td>36.6</td>\n",
       "      <td>formerly smoked</td>\n",
       "      <td>1</td>\n",
       "    </tr>\n",
       "    <tr>\n",
       "      <th>1</th>\n",
       "      <td>51676</td>\n",
       "      <td>Female</td>\n",
       "      <td>61.0</td>\n",
       "      <td>0</td>\n",
       "      <td>0</td>\n",
       "      <td>Yes</td>\n",
       "      <td>Self-employed</td>\n",
       "      <td>Rural</td>\n",
       "      <td>202.21</td>\n",
       "      <td>NaN</td>\n",
       "      <td>never smoked</td>\n",
       "      <td>1</td>\n",
       "    </tr>\n",
       "    <tr>\n",
       "      <th>2</th>\n",
       "      <td>31112</td>\n",
       "      <td>Male</td>\n",
       "      <td>80.0</td>\n",
       "      <td>0</td>\n",
       "      <td>1</td>\n",
       "      <td>Yes</td>\n",
       "      <td>Private</td>\n",
       "      <td>Rural</td>\n",
       "      <td>105.92</td>\n",
       "      <td>32.5</td>\n",
       "      <td>never smoked</td>\n",
       "      <td>1</td>\n",
       "    </tr>\n",
       "    <tr>\n",
       "      <th>3</th>\n",
       "      <td>60182</td>\n",
       "      <td>Female</td>\n",
       "      <td>49.0</td>\n",
       "      <td>0</td>\n",
       "      <td>0</td>\n",
       "      <td>Yes</td>\n",
       "      <td>Private</td>\n",
       "      <td>Urban</td>\n",
       "      <td>171.23</td>\n",
       "      <td>34.4</td>\n",
       "      <td>smokes</td>\n",
       "      <td>1</td>\n",
       "    </tr>\n",
       "    <tr>\n",
       "      <th>4</th>\n",
       "      <td>1665</td>\n",
       "      <td>Female</td>\n",
       "      <td>79.0</td>\n",
       "      <td>1</td>\n",
       "      <td>0</td>\n",
       "      <td>Yes</td>\n",
       "      <td>Self-employed</td>\n",
       "      <td>Rural</td>\n",
       "      <td>174.12</td>\n",
       "      <td>24.0</td>\n",
       "      <td>never smoked</td>\n",
       "      <td>1</td>\n",
       "    </tr>\n",
       "  </tbody>\n",
       "</table>\n",
       "</div>"
      ],
      "text/plain": [
       "      id  gender   age  hypertension  heart_disease ever_married  \\\n",
       "0   9046    Male  67.0             0              1          Yes   \n",
       "1  51676  Female  61.0             0              0          Yes   \n",
       "2  31112    Male  80.0             0              1          Yes   \n",
       "3  60182  Female  49.0             0              0          Yes   \n",
       "4   1665  Female  79.0             1              0          Yes   \n",
       "\n",
       "       work_type Residence_type  avg_glucose_level   bmi   smoking_status  \\\n",
       "0        Private          Urban             228.69  36.6  formerly smoked   \n",
       "1  Self-employed          Rural             202.21   NaN     never smoked   \n",
       "2        Private          Rural             105.92  32.5     never smoked   \n",
       "3        Private          Urban             171.23  34.4           smokes   \n",
       "4  Self-employed          Rural             174.12  24.0     never smoked   \n",
       "\n",
       "   stroke  \n",
       "0       1  \n",
       "1       1  \n",
       "2       1  \n",
       "3       1  \n",
       "4       1  "
      ]
     },
     "execution_count": 1410,
     "metadata": {},
     "output_type": "execute_result"
    }
   ],
   "source": [
    "#displaying top 5 rows\n",
    "d.head()"
   ]
  },
  {
   "cell_type": "code",
   "execution_count": 1411,
   "id": "7b4e31bd",
   "metadata": {},
   "outputs": [
    {
     "data": {
      "text/html": [
       "<div>\n",
       "<style scoped>\n",
       "    .dataframe tbody tr th:only-of-type {\n",
       "        vertical-align: middle;\n",
       "    }\n",
       "\n",
       "    .dataframe tbody tr th {\n",
       "        vertical-align: top;\n",
       "    }\n",
       "\n",
       "    .dataframe thead th {\n",
       "        text-align: right;\n",
       "    }\n",
       "</style>\n",
       "<table border=\"1\" class=\"dataframe\">\n",
       "  <thead>\n",
       "    <tr style=\"text-align: right;\">\n",
       "      <th></th>\n",
       "      <th>id</th>\n",
       "      <th>gender</th>\n",
       "      <th>age</th>\n",
       "      <th>hypertension</th>\n",
       "      <th>heart_disease</th>\n",
       "      <th>ever_married</th>\n",
       "      <th>work_type</th>\n",
       "      <th>Residence_type</th>\n",
       "      <th>avg_glucose_level</th>\n",
       "      <th>bmi</th>\n",
       "      <th>smoking_status</th>\n",
       "      <th>stroke</th>\n",
       "    </tr>\n",
       "  </thead>\n",
       "  <tbody>\n",
       "    <tr>\n",
       "      <th>5105</th>\n",
       "      <td>18234</td>\n",
       "      <td>Female</td>\n",
       "      <td>80.0</td>\n",
       "      <td>1</td>\n",
       "      <td>0</td>\n",
       "      <td>Yes</td>\n",
       "      <td>Private</td>\n",
       "      <td>Urban</td>\n",
       "      <td>83.75</td>\n",
       "      <td>NaN</td>\n",
       "      <td>never smoked</td>\n",
       "      <td>0</td>\n",
       "    </tr>\n",
       "    <tr>\n",
       "      <th>5106</th>\n",
       "      <td>44873</td>\n",
       "      <td>Female</td>\n",
       "      <td>81.0</td>\n",
       "      <td>0</td>\n",
       "      <td>0</td>\n",
       "      <td>Yes</td>\n",
       "      <td>Self-employed</td>\n",
       "      <td>Urban</td>\n",
       "      <td>125.20</td>\n",
       "      <td>40.0</td>\n",
       "      <td>never smoked</td>\n",
       "      <td>0</td>\n",
       "    </tr>\n",
       "    <tr>\n",
       "      <th>5107</th>\n",
       "      <td>19723</td>\n",
       "      <td>Female</td>\n",
       "      <td>35.0</td>\n",
       "      <td>0</td>\n",
       "      <td>0</td>\n",
       "      <td>Yes</td>\n",
       "      <td>Self-employed</td>\n",
       "      <td>Rural</td>\n",
       "      <td>82.99</td>\n",
       "      <td>30.6</td>\n",
       "      <td>never smoked</td>\n",
       "      <td>0</td>\n",
       "    </tr>\n",
       "    <tr>\n",
       "      <th>5108</th>\n",
       "      <td>37544</td>\n",
       "      <td>Male</td>\n",
       "      <td>51.0</td>\n",
       "      <td>0</td>\n",
       "      <td>0</td>\n",
       "      <td>Yes</td>\n",
       "      <td>Private</td>\n",
       "      <td>Rural</td>\n",
       "      <td>166.29</td>\n",
       "      <td>25.6</td>\n",
       "      <td>formerly smoked</td>\n",
       "      <td>0</td>\n",
       "    </tr>\n",
       "    <tr>\n",
       "      <th>5109</th>\n",
       "      <td>44679</td>\n",
       "      <td>Female</td>\n",
       "      <td>44.0</td>\n",
       "      <td>0</td>\n",
       "      <td>0</td>\n",
       "      <td>Yes</td>\n",
       "      <td>Govt_job</td>\n",
       "      <td>Urban</td>\n",
       "      <td>85.28</td>\n",
       "      <td>26.2</td>\n",
       "      <td>Unknown</td>\n",
       "      <td>0</td>\n",
       "    </tr>\n",
       "  </tbody>\n",
       "</table>\n",
       "</div>"
      ],
      "text/plain": [
       "         id  gender   age  hypertension  heart_disease ever_married  \\\n",
       "5105  18234  Female  80.0             1              0          Yes   \n",
       "5106  44873  Female  81.0             0              0          Yes   \n",
       "5107  19723  Female  35.0             0              0          Yes   \n",
       "5108  37544    Male  51.0             0              0          Yes   \n",
       "5109  44679  Female  44.0             0              0          Yes   \n",
       "\n",
       "          work_type Residence_type  avg_glucose_level   bmi   smoking_status  \\\n",
       "5105        Private          Urban              83.75   NaN     never smoked   \n",
       "5106  Self-employed          Urban             125.20  40.0     never smoked   \n",
       "5107  Self-employed          Rural              82.99  30.6     never smoked   \n",
       "5108        Private          Rural             166.29  25.6  formerly smoked   \n",
       "5109       Govt_job          Urban              85.28  26.2          Unknown   \n",
       "\n",
       "      stroke  \n",
       "5105       0  \n",
       "5106       0  \n",
       "5107       0  \n",
       "5108       0  \n",
       "5109       0  "
      ]
     },
     "execution_count": 1411,
     "metadata": {},
     "output_type": "execute_result"
    }
   ],
   "source": [
    "#displaying last 5 rows\n",
    "d.tail()"
   ]
  },
  {
   "cell_type": "code",
   "execution_count": 1412,
   "id": "1682ca71",
   "metadata": {},
   "outputs": [
    {
     "data": {
      "text/plain": [
       "(5110, 12)"
      ]
     },
     "execution_count": 1412,
     "metadata": {},
     "output_type": "execute_result"
    }
   ],
   "source": [
    "#Showing number of rows and colums in dataset \n",
    "d.shape"
   ]
  },
  {
   "cell_type": "code",
   "execution_count": 1413,
   "id": "289c6322",
   "metadata": {},
   "outputs": [
    {
     "name": "stdout",
     "output_type": "stream",
     "text": [
      "<class 'pandas.core.frame.DataFrame'>\n",
      "RangeIndex: 5110 entries, 0 to 5109\n",
      "Data columns (total 12 columns):\n",
      " #   Column             Non-Null Count  Dtype  \n",
      "---  ------             --------------  -----  \n",
      " 0   id                 5110 non-null   int64  \n",
      " 1   gender             5110 non-null   object \n",
      " 2   age                5110 non-null   float64\n",
      " 3   hypertension       5110 non-null   int64  \n",
      " 4   heart_disease      5110 non-null   int64  \n",
      " 5   ever_married       5110 non-null   object \n",
      " 6   work_type          5110 non-null   object \n",
      " 7   Residence_type     5110 non-null   object \n",
      " 8   avg_glucose_level  5110 non-null   float64\n",
      " 9   bmi                4909 non-null   float64\n",
      " 10  smoking_status     5110 non-null   object \n",
      " 11  stroke             5110 non-null   int64  \n",
      "dtypes: float64(3), int64(4), object(5)\n",
      "memory usage: 479.2+ KB\n"
     ]
    }
   ],
   "source": [
    "#showing information about dataset\n",
    "d.info()"
   ]
  },
  {
   "cell_type": "code",
   "execution_count": 1414,
   "id": "edb95459",
   "metadata": {},
   "outputs": [
    {
     "data": {
      "text/html": [
       "<div>\n",
       "<style scoped>\n",
       "    .dataframe tbody tr th:only-of-type {\n",
       "        vertical-align: middle;\n",
       "    }\n",
       "\n",
       "    .dataframe tbody tr th {\n",
       "        vertical-align: top;\n",
       "    }\n",
       "\n",
       "    .dataframe thead th {\n",
       "        text-align: right;\n",
       "    }\n",
       "</style>\n",
       "<table border=\"1\" class=\"dataframe\">\n",
       "  <thead>\n",
       "    <tr style=\"text-align: right;\">\n",
       "      <th></th>\n",
       "      <th>id</th>\n",
       "      <th>age</th>\n",
       "      <th>hypertension</th>\n",
       "      <th>heart_disease</th>\n",
       "      <th>avg_glucose_level</th>\n",
       "      <th>bmi</th>\n",
       "      <th>stroke</th>\n",
       "    </tr>\n",
       "  </thead>\n",
       "  <tbody>\n",
       "    <tr>\n",
       "      <th>count</th>\n",
       "      <td>5110.000000</td>\n",
       "      <td>5110.000000</td>\n",
       "      <td>5110.000000</td>\n",
       "      <td>5110.000000</td>\n",
       "      <td>5110.000000</td>\n",
       "      <td>4909.000000</td>\n",
       "      <td>5110.000000</td>\n",
       "    </tr>\n",
       "    <tr>\n",
       "      <th>mean</th>\n",
       "      <td>36517.829354</td>\n",
       "      <td>43.226614</td>\n",
       "      <td>0.097456</td>\n",
       "      <td>0.054012</td>\n",
       "      <td>106.147677</td>\n",
       "      <td>28.893237</td>\n",
       "      <td>0.048728</td>\n",
       "    </tr>\n",
       "    <tr>\n",
       "      <th>std</th>\n",
       "      <td>21161.721625</td>\n",
       "      <td>22.612647</td>\n",
       "      <td>0.296607</td>\n",
       "      <td>0.226063</td>\n",
       "      <td>45.283560</td>\n",
       "      <td>7.854067</td>\n",
       "      <td>0.215320</td>\n",
       "    </tr>\n",
       "    <tr>\n",
       "      <th>min</th>\n",
       "      <td>67.000000</td>\n",
       "      <td>0.080000</td>\n",
       "      <td>0.000000</td>\n",
       "      <td>0.000000</td>\n",
       "      <td>55.120000</td>\n",
       "      <td>10.300000</td>\n",
       "      <td>0.000000</td>\n",
       "    </tr>\n",
       "    <tr>\n",
       "      <th>25%</th>\n",
       "      <td>17741.250000</td>\n",
       "      <td>25.000000</td>\n",
       "      <td>0.000000</td>\n",
       "      <td>0.000000</td>\n",
       "      <td>77.245000</td>\n",
       "      <td>23.500000</td>\n",
       "      <td>0.000000</td>\n",
       "    </tr>\n",
       "    <tr>\n",
       "      <th>50%</th>\n",
       "      <td>36932.000000</td>\n",
       "      <td>45.000000</td>\n",
       "      <td>0.000000</td>\n",
       "      <td>0.000000</td>\n",
       "      <td>91.885000</td>\n",
       "      <td>28.100000</td>\n",
       "      <td>0.000000</td>\n",
       "    </tr>\n",
       "    <tr>\n",
       "      <th>75%</th>\n",
       "      <td>54682.000000</td>\n",
       "      <td>61.000000</td>\n",
       "      <td>0.000000</td>\n",
       "      <td>0.000000</td>\n",
       "      <td>114.090000</td>\n",
       "      <td>33.100000</td>\n",
       "      <td>0.000000</td>\n",
       "    </tr>\n",
       "    <tr>\n",
       "      <th>max</th>\n",
       "      <td>72940.000000</td>\n",
       "      <td>82.000000</td>\n",
       "      <td>1.000000</td>\n",
       "      <td>1.000000</td>\n",
       "      <td>271.740000</td>\n",
       "      <td>97.600000</td>\n",
       "      <td>1.000000</td>\n",
       "    </tr>\n",
       "  </tbody>\n",
       "</table>\n",
       "</div>"
      ],
      "text/plain": [
       "                 id          age  hypertension  heart_disease  \\\n",
       "count   5110.000000  5110.000000   5110.000000    5110.000000   \n",
       "mean   36517.829354    43.226614      0.097456       0.054012   \n",
       "std    21161.721625    22.612647      0.296607       0.226063   \n",
       "min       67.000000     0.080000      0.000000       0.000000   \n",
       "25%    17741.250000    25.000000      0.000000       0.000000   \n",
       "50%    36932.000000    45.000000      0.000000       0.000000   \n",
       "75%    54682.000000    61.000000      0.000000       0.000000   \n",
       "max    72940.000000    82.000000      1.000000       1.000000   \n",
       "\n",
       "       avg_glucose_level          bmi       stroke  \n",
       "count        5110.000000  4909.000000  5110.000000  \n",
       "mean          106.147677    28.893237     0.048728  \n",
       "std            45.283560     7.854067     0.215320  \n",
       "min            55.120000    10.300000     0.000000  \n",
       "25%            77.245000    23.500000     0.000000  \n",
       "50%            91.885000    28.100000     0.000000  \n",
       "75%           114.090000    33.100000     0.000000  \n",
       "max           271.740000    97.600000     1.000000  "
      ]
     },
     "execution_count": 1414,
     "metadata": {},
     "output_type": "execute_result"
    }
   ],
   "source": [
    "#Showing dataset statistical features\n",
    "d.describe()"
   ]
  },
  {
   "cell_type": "code",
   "execution_count": 1415,
   "id": "e3315774",
   "metadata": {},
   "outputs": [
    {
     "data": {
      "text/plain": [
       "id                     0\n",
       "gender                 0\n",
       "age                    0\n",
       "hypertension           0\n",
       "heart_disease          0\n",
       "ever_married           0\n",
       "work_type              0\n",
       "Residence_type         0\n",
       "avg_glucose_level      0\n",
       "bmi                  201\n",
       "smoking_status         0\n",
       "stroke                 0\n",
       "dtype: int64"
      ]
     },
     "execution_count": 1415,
     "metadata": {},
     "output_type": "execute_result"
    }
   ],
   "source": [
    "#Showing the number of null value and wher is it\n",
    "d.isna().sum()"
   ]
  },
  {
   "cell_type": "code",
   "execution_count": 1416,
   "id": "ef8a5ba1",
   "metadata": {},
   "outputs": [
    {
     "data": {
      "text/plain": [
       "Index(['id', 'gender', 'age', 'hypertension', 'heart_disease', 'ever_married',\n",
       "       'work_type', 'Residence_type', 'avg_glucose_level', 'bmi',\n",
       "       'smoking_status', 'stroke'],\n",
       "      dtype='object')"
      ]
     },
     "execution_count": 1416,
     "metadata": {},
     "output_type": "execute_result"
    }
   ],
   "source": [
    "#Showing the names of colums\n",
    "d.columns"
   ]
  },
  {
   "cell_type": "markdown",
   "id": "955d03b7",
   "metadata": {},
   "source": [
    "# Visualization"
   ]
  },
  {
   "cell_type": "markdown",
   "id": "195d02a2",
   "metadata": {},
   "source": [
    "### 1-Stroke:"
   ]
  },
  {
   "cell_type": "code",
   "execution_count": 1417,
   "id": "0578c142",
   "metadata": {},
   "outputs": [
    {
     "data": {
      "text/plain": [
       "Text(0.5, 1.0, 'imbalanced Dataset')"
      ]
     },
     "execution_count": 1417,
     "metadata": {},
     "output_type": "execute_result"
    },
    {
     "data": {
      "image/png": "[encoded data removed]",
      "text/plain": [
       "<Figure size 360x288 with 1 Axes>"
      ]
     },
     "metadata": {
      "needs_background": "light"
     },
     "output_type": "display_data"
    }
   ],
   "source": [
    "fig, axes = plt.subplots(figsize=(5, 4))\n",
    "d['stroke'].value_counts(normalize=True).plot.bar(width=0.2, color=('green','red'))\n",
    "plt.title('imbalanced Dataset')"
   ]
  },
  {
   "cell_type": "markdown",
   "id": "3ec88795",
   "metadata": {},
   "source": [
    "### 2-Gender:"
   ]
  },
  {
   "cell_type": "code",
   "execution_count": 1418,
   "id": "9649e97f",
   "metadata": {},
   "outputs": [
    {
     "data": {
      "text/plain": [
       "Text(0.5, 1.0, 'Females is more than Males')"
      ]
     },
     "execution_count": 1418,
     "metadata": {},
     "output_type": "execute_result"
    },
    {
     "data": {
      "image/png": "[encoded data removed]",
      "text/plain": [
       "<Figure size 432x288 with 1 Axes>"
      ]
     },
     "metadata": {
      "needs_background": "light"
     },
     "output_type": "display_data"
    }
   ],
   "source": [
    "sns.countplot(data=d,x='gender')\n",
    "plt.title('Females is more than Males')"
   ]
  },
  {
   "cell_type": "code",
   "execution_count": 1419,
   "id": "754fc07e",
   "metadata": {},
   "outputs": [
    {
     "data": {
      "text/plain": [
       "Text(0.5, 1.0, 'There is not much difference between stroke rate concerning gender.')"
      ]
     },
     "execution_count": 1419,
     "metadata": {},
     "output_type": "execute_result"
    },
    {
     "data": {
      "image/png": "[encoded data removed]",
      "text/plain": [
       "<Figure size 432x288 with 1 Axes>"
      ]
     },
     "metadata": {
      "needs_background": "light"
     },
     "output_type": "display_data"
    }
   ],
   "source": [
    "sns.countplot(data=d,x='gender',hue='stroke')\n",
    "plt.title('There is not much difference between stroke rate concerning gender.')"
   ]
  },
  {
   "cell_type": "markdown",
   "id": "130a6ce1",
   "metadata": {},
   "source": [
    "### 3-Age:"
   ]
  },
  {
   "cell_type": "code",
   "execution_count": 1420,
   "id": "b94994f6",
   "metadata": {},
   "outputs": [
    {
     "data": {
      "text/plain": [
       "Text(0.5, 1.0, 'So many people in this dataset in range age 40 to 80 ')"
      ]
     },
     "execution_count": 1420,
     "metadata": {},
     "output_type": "execute_result"
    },
    {
     "data": {
      "image/png": "[encoded data removed]",
      "text/plain": [
       "<Figure size 360x360 with 1 Axes>"
      ]
     },
     "metadata": {
      "needs_background": "light"
     },
     "output_type": "display_data"
    }
   ],
   "source": [
    "sns.displot(d['age'])\n",
    "plt.title('So many people in this dataset in range age 40 to 80 ')"
   ]
  },
  {
   "cell_type": "code",
   "execution_count": 1421,
   "id": "03c5bd54",
   "metadata": {},
   "outputs": [
    {
     "data": {
      "text/plain": [
       "Text(0.5, 1.0, 'People aged more than 60 years tend to have a stroke.\\nSome outliers can be seen as people below age 20 are having a stroke.')"
      ]
     },
     "execution_count": 1421,
     "metadata": {},
     "output_type": "execute_result"
    },
    {
     "data": {
      "image/png": "[encoded data removed]",
      "text/plain": [
       "<Figure size 432x288 with 1 Axes>"
      ]
     },
     "metadata": {
      "needs_background": "light"
     },
     "output_type": "display_data"
    }
   ],
   "source": [
    "sns.boxplot(data=d,x='stroke',y='age')\n",
    "plt.title('People aged more than 60 years tend to have a stroke.\\nSome outliers can be seen as people below age 20 are having a stroke.')"
   ]
  },
  {
   "cell_type": "markdown",
   "id": "3fb5315a",
   "metadata": {},
   "source": [
    "### 4-Heart_Disease:"
   ]
  },
  {
   "cell_type": "code",
   "execution_count": 1422,
   "id": "d48d8f76",
   "metadata": {},
   "outputs": [
    {
     "data": {
      "text/plain": [
       "Text(0.5, 1.0, 'So many people in this dataset dose not contane heart disease')"
      ]
     },
     "execution_count": 1422,
     "metadata": {},
     "output_type": "execute_result"
    },
    {
     "data": {
      "image/png": "[encoded data removed]",
      "text/plain": [
       "<Figure size 432x288 with 1 Axes>"
      ]
     },
     "metadata": {
      "needs_background": "light"
     },
     "output_type": "display_data"
    }
   ],
   "source": [
    "sns.countplot(data=d,x='heart_disease')\n",
    "plt.title('So many people in this dataset dose not contane heart disease')"
   ]
  },
  {
   "cell_type": "code",
   "execution_count": 1423,
   "id": "c32839f9",
   "metadata": {},
   "outputs": [
    {
     "data": {
      "text/plain": [
       "Text(0.5, 1.0, 'heart_disease & stroke')"
      ]
     },
     "execution_count": 1423,
     "metadata": {},
     "output_type": "execute_result"
    },
    {
     "data": {
      "image/png": "[encoded data removed]",
      "text/plain": [
       "<Figure size 432x288 with 1 Axes>"
      ]
     },
     "metadata": {
      "needs_background": "light"
     },
     "output_type": "display_data"
    }
   ],
   "source": [
    "sns.countplot(data=d,x='heart_disease',hue='stroke')\n",
    "plt.title('heart_disease & stroke')"
   ]
  },
  {
   "cell_type": "markdown",
   "id": "a561ff7d",
   "metadata": {},
   "source": [
    "### 5-Ever_Married:"
   ]
  },
  {
   "cell_type": "code",
   "execution_count": 1424,
   "id": "62af3b88",
   "metadata": {},
   "outputs": [
    {
     "data": {
      "text/plain": [
       "Text(0.5, 1.0, 'So many people in this dataset married')"
      ]
     },
     "execution_count": 1424,
     "metadata": {},
     "output_type": "execute_result"
    },
    {
     "data": {
      "image/png": "[encoded data removed]",
      "text/plain": [
       "<Figure size 432x288 with 1 Axes>"
      ]
     },
     "metadata": {
      "needs_background": "light"
     },
     "output_type": "display_data"
    }
   ],
   "source": [
    "sns.countplot(data=d,x='ever_married')\n",
    "plt.title('So many people in this dataset married')"
   ]
  },
  {
   "cell_type": "code",
   "execution_count": 1425,
   "id": "5e6c58fd",
   "metadata": {},
   "outputs": [
    {
     "data": {
      "text/plain": [
       "Text(0.5, 1.0, 'People who are married have a higher stroke rate.')"
      ]
     },
     "execution_count": 1425,
     "metadata": {},
     "output_type": "execute_result"
    },
    {
     "data": {
      "image/png": "[encoded data removed]",
      "text/plain": [
       "<Figure size 432x288 with 1 Axes>"
      ]
     },
     "metadata": {
      "needs_background": "light"
     },
     "output_type": "display_data"
    }
   ],
   "source": [
    "sns.countplot(data=d,x='ever_married',hue='stroke')\n",
    "plt.title('People who are married have a higher stroke rate.')"
   ]
  },
  {
   "cell_type": "markdown",
   "id": "4795c806",
   "metadata": {},
   "source": [
    "### 6-work_type:"
   ]
  },
  {
   "cell_type": "code",
   "execution_count": 1426,
   "id": "73377554",
   "metadata": {},
   "outputs": [
    {
     "data": {
      "text/plain": [
       "Text(0.5, 1.0, 'So many people in this dataset have work type=private')"
      ]
     },
     "execution_count": 1426,
     "metadata": {},
     "output_type": "execute_result"
    },
    {
     "data": {
      "image/png": "[encoded data removed]",
      "text/plain": [
       "<Figure size 432x288 with 1 Axes>"
      ]
     },
     "metadata": {
      "needs_background": "light"
     },
     "output_type": "display_data"
    }
   ],
   "source": [
    "sns.countplot(data=d,x='work_type')\n",
    "plt.title('So many people in this dataset have work type=private')"
   ]
  },
  {
   "cell_type": "code",
   "execution_count": 1427,
   "id": "30dbb041",
   "metadata": {},
   "outputs": [
    {
     "data": {
      "text/plain": [
       "Text(0.5, 1.0, 'People working in the private sector have a higher risk of getting a stroke.\\nAnd people who have never worked have a very less stroke rate.')"
      ]
     },
     "execution_count": 1427,
     "metadata": {},
     "output_type": "execute_result"
    },
    {
     "data": {
      "image/png": "[encoded data removed]",
      "text/plain": [
       "<Figure size 432x288 with 1 Axes>"
      ]
     },
     "metadata": {
      "needs_background": "light"
     },
     "output_type": "display_data"
    }
   ],
   "source": [
    "sns.countplot(data=d,x='work_type',hue='stroke')\n",
    "plt.title('People working in the private sector have a higher risk of getting a stroke.\\nAnd people who have never worked have a very less stroke rate.')"
   ]
  },
  {
   "cell_type": "markdown",
   "id": "53c3aa92",
   "metadata": {},
   "source": [
    "### 7-Residence_type:"
   ]
  },
  {
   "cell_type": "code",
   "execution_count": 1428,
   "id": "cb0ea91f",
   "metadata": {},
   "outputs": [
    {
     "data": {
      "text/plain": [
       "Text(0.5, 1.0, 'There not much difference in both attribute values.')"
      ]
     },
     "execution_count": 1428,
     "metadata": {},
     "output_type": "execute_result"
    },
    {
     "data": {
      "image/png": "[encoded data removed]",
      "text/plain": [
       "<Figure size 432x288 with 1 Axes>"
      ]
     },
     "metadata": {
      "needs_background": "light"
     },
     "output_type": "display_data"
    }
   ],
   "source": [
    "sns.countplot(data=d,x='Residence_type')\n",
    "plt.title('There not much difference in both attribute values.')"
   ]
  },
  {
   "cell_type": "code",
   "execution_count": 1429,
   "id": "f9693ac1",
   "metadata": {},
   "outputs": [
    {
     "data": {
      "text/plain": [
       "Text(0.5, 1.0, 'There not much difference in both attribute values.')"
      ]
     },
     "execution_count": 1429,
     "metadata": {},
     "output_type": "execute_result"
    },
    {
     "data": {
      "image/png": "[encoded data removed]",
      "text/plain": [
       "<Figure size 432x288 with 1 Axes>"
      ]
     },
     "metadata": {
      "needs_background": "light"
     },
     "output_type": "display_data"
    }
   ],
   "source": [
    "sns.countplot(data=d,x='Residence_type',hue='stroke')\n",
    "plt.title('There not much difference in both attribute values.')"
   ]
  },
  {
   "cell_type": "markdown",
   "id": "b998c838",
   "metadata": {},
   "source": [
    "### 8-Avg_Glucose_Level:"
   ]
  },
  {
   "cell_type": "code",
   "execution_count": 1430,
   "id": "55ba3f16",
   "metadata": {},
   "outputs": [
    {
     "data": {
      "text/plain": [
       "Text(0.5, 1.0, 'avg_glucose_level')"
      ]
     },
     "execution_count": 1430,
     "metadata": {},
     "output_type": "execute_result"
    },
    {
     "data": {
      "image/png": "[encoded data removed]",
      "text/plain": [
       "<Figure size 360x360 with 1 Axes>"
      ]
     },
     "metadata": {
      "needs_background": "light"
     },
     "output_type": "display_data"
    }
   ],
   "source": [
    "sns.displot(d['avg_glucose_level'])\n",
    "plt.title('avg_glucose_level')"
   ]
  },
  {
   "cell_type": "code",
   "execution_count": 1431,
   "id": "6df945bc",
   "metadata": {
    "scrolled": true
   },
   "outputs": [
    {
     "data": {
      "text/plain": [
       "Text(0.5, 1.0, 'People having stroke have an average glucose level of more than 100.')"
      ]
     },
     "execution_count": 1431,
     "metadata": {},
     "output_type": "execute_result"
    },
    {
     "data": {
      "image/png": "[encoded data removed]",
      "text/plain": [
       "<Figure size 432x288 with 1 Axes>"
      ]
     },
     "metadata": {
      "needs_background": "light"
     },
     "output_type": "display_data"
    }
   ],
   "source": [
    "sns.boxplot(data=d,x='stroke',y='avg_glucose_level')\n",
    "plt.title('People having stroke have an average glucose level of more than 100.')"
   ]
  },
  {
   "cell_type": "markdown",
   "id": "1cdee201",
   "metadata": {},
   "source": [
    "### 9-Bmi:"
   ]
  },
  {
   "cell_type": "code",
   "execution_count": 1432,
   "id": "d60db96e",
   "metadata": {},
   "outputs": [
    {
     "data": {
      "text/plain": [
       "Text(0.5, 1.0, 'BMI')"
      ]
     },
     "execution_count": 1432,
     "metadata": {},
     "output_type": "execute_result"
    },
    {
     "data": {
      "image/png": "[encoded data removed]",
      "text/plain": [
       "<Figure size 360x360 with 1 Axes>"
      ]
     },
     "metadata": {
      "needs_background": "light"
     },
     "output_type": "display_data"
    }
   ],
   "source": [
    "sns.displot(d['bmi'])\n",
    "plt.title('BMI')"
   ]
  },
  {
   "cell_type": "code",
   "execution_count": 1433,
   "id": "d4b4f3ff",
   "metadata": {},
   "outputs": [
    {
     "data": {
      "text/plain": [
       "Text(0.5, 1.0, ' BMI & stroke')"
      ]
     },
     "execution_count": 1433,
     "metadata": {},
     "output_type": "execute_result"
    },
    {
     "data": {
      "image/png": "[encoded data removed]",
      "text/plain": [
       "<Figure size 432x288 with 1 Axes>"
      ]
     },
     "metadata": {
      "needs_background": "light"
     },
     "output_type": "display_data"
    }
   ],
   "source": [
    "sns.boxplot(data=d,x='stroke',y='bmi')\n",
    "plt.title(' BMI & stroke')"
   ]
  },
  {
   "cell_type": "markdown",
   "id": "e4cbef57",
   "metadata": {},
   "source": [
    "### 10-Smoking_Status:"
   ]
  },
  {
   "cell_type": "code",
   "execution_count": 1434,
   "id": "ad528b63",
   "metadata": {},
   "outputs": [
    {
     "data": {
      "text/plain": [
       "Text(0.5, 1.0, 'So many people in this dataset are never smoked')"
      ]
     },
     "execution_count": 1434,
     "metadata": {},
     "output_type": "execute_result"
    },
    {
     "data": {
      "image/png": "[encoded data removed]",
      "text/plain": [
       "<Figure size 432x288 with 1 Axes>"
      ]
     },
     "metadata": {
      "needs_background": "light"
     },
     "output_type": "display_data"
    }
   ],
   "source": [
    "sns.countplot(data=d,x='smoking_status')\n",
    "plt.title('So many people in this dataset are never smoked')"
   ]
  },
  {
   "cell_type": "code",
   "execution_count": 1435,
   "id": "5ea19705",
   "metadata": {},
   "outputs": [
    {
     "data": {
      "text/plain": [
       "Text(0.5, 1.0, 'There is not much difference in the chances of stroke irrespective of smoking status.')"
      ]
     },
     "execution_count": 1435,
     "metadata": {},
     "output_type": "execute_result"
    },
    {
     "data": {
      "image/png": "[encoded data removed]",
      "text/plain": [
       "<Figure size 432x288 with 1 Axes>"
      ]
     },
     "metadata": {
      "needs_background": "light"
     },
     "output_type": "display_data"
    }
   ],
   "source": [
    "sns.countplot(data=d,x='smoking_status',hue='stroke')\n",
    "plt.title('There is not much difference in the chances of stroke irrespective of smoking status.')"
   ]
  },
  {
   "cell_type": "markdown",
   "id": "3106c7a6",
   "metadata": {},
   "source": [
    "# Handling Missing Values:"
   ]
  },
  {
   "cell_type": "code",
   "execution_count": 1436,
   "id": "7eeccddc",
   "metadata": {},
   "outputs": [
    {
     "name": "stdout",
     "output_type": "stream",
     "text": [
      "<class 'pandas.core.frame.DataFrame'>\n",
      "RangeIndex: 5110 entries, 0 to 5109\n",
      "Data columns (total 12 columns):\n",
      " #   Column             Non-Null Count  Dtype  \n",
      "---  ------             --------------  -----  \n",
      " 0   id                 5110 non-null   int64  \n",
      " 1   gender             5110 non-null   object \n",
      " 2   age                5110 non-null   float64\n",
      " 3   hypertension       5110 non-null   int64  \n",
      " 4   heart_disease      5110 non-null   int64  \n",
      " 5   ever_married       5110 non-null   object \n",
      " 6   work_type          5110 non-null   object \n",
      " 7   Residence_type     5110 non-null   object \n",
      " 8   avg_glucose_level  5110 non-null   float64\n",
      " 9   bmi                5110 non-null   float64\n",
      " 10  smoking_status     5110 non-null   object \n",
      " 11  stroke             5110 non-null   int64  \n",
      "dtypes: float64(3), int64(4), object(5)\n",
      "memory usage: 479.2+ KB\n"
     ]
    }
   ],
   "source": [
    "imp_KNN=KNNImputer(n_neighbors=4)\n",
    "d['bmi']=imp_KNN.fit_transform(d[['bmi']])\n",
    "d.info()"
   ]
  },
  {
   "cell_type": "markdown",
   "id": "f7a76b65",
   "metadata": {},
   "source": [
    "# Handling Columns:"
   ]
  },
  {
   "cell_type": "code",
   "execution_count": 1437,
   "id": "7c2260d1",
   "metadata": {},
   "outputs": [
    {
     "data": {
      "text/html": [
       "<div>\n",
       "<style scoped>\n",
       "    .dataframe tbody tr th:only-of-type {\n",
       "        vertical-align: middle;\n",
       "    }\n",
       "\n",
       "    .dataframe tbody tr th {\n",
       "        vertical-align: top;\n",
       "    }\n",
       "\n",
       "    .dataframe thead th {\n",
       "        text-align: right;\n",
       "    }\n",
       "</style>\n",
       "<table border=\"1\" class=\"dataframe\">\n",
       "  <thead>\n",
       "    <tr style=\"text-align: right;\">\n",
       "      <th></th>\n",
       "      <th>smoking_status_formerly smoked</th>\n",
       "      <th>smoking_status_never smoked</th>\n",
       "      <th>smoking_status_smokes</th>\n",
       "    </tr>\n",
       "  </thead>\n",
       "  <tbody>\n",
       "    <tr>\n",
       "      <th>0</th>\n",
       "      <td>1</td>\n",
       "      <td>0</td>\n",
       "      <td>0</td>\n",
       "    </tr>\n",
       "    <tr>\n",
       "      <th>1</th>\n",
       "      <td>0</td>\n",
       "      <td>1</td>\n",
       "      <td>0</td>\n",
       "    </tr>\n",
       "  </tbody>\n",
       "</table>\n",
       "</div>"
      ],
      "text/plain": [
       "   smoking_status_formerly smoked  smoking_status_never smoked  \\\n",
       "0                               1                            0   \n",
       "1                               0                            1   \n",
       "\n",
       "   smoking_status_smokes  \n",
       "0                      0  \n",
       "1                      0  "
      ]
     },
     "execution_count": 1437,
     "metadata": {},
     "output_type": "execute_result"
    }
   ],
   "source": [
    "#Handle smoking_status column\n",
    "smoking = pd.get_dummies(d[['smoking_status']], drop_first= True)\n",
    "smoking.head(2)"
   ]
  },
  {
   "cell_type": "code",
   "execution_count": 1438,
   "id": "dcd69891",
   "metadata": {},
   "outputs": [
    {
     "data": {
      "text/html": [
       "<div>\n",
       "<style scoped>\n",
       "    .dataframe tbody tr th:only-of-type {\n",
       "        vertical-align: middle;\n",
       "    }\n",
       "\n",
       "    .dataframe tbody tr th {\n",
       "        vertical-align: top;\n",
       "    }\n",
       "\n",
       "    .dataframe thead th {\n",
       "        text-align: right;\n",
       "    }\n",
       "</style>\n",
       "<table border=\"1\" class=\"dataframe\">\n",
       "  <thead>\n",
       "    <tr style=\"text-align: right;\">\n",
       "      <th></th>\n",
       "      <th>gender_Male</th>\n",
       "      <th>gender_Other</th>\n",
       "    </tr>\n",
       "  </thead>\n",
       "  <tbody>\n",
       "    <tr>\n",
       "      <th>0</th>\n",
       "      <td>1</td>\n",
       "      <td>0</td>\n",
       "    </tr>\n",
       "    <tr>\n",
       "      <th>1</th>\n",
       "      <td>0</td>\n",
       "      <td>0</td>\n",
       "    </tr>\n",
       "  </tbody>\n",
       "</table>\n",
       "</div>"
      ],
      "text/plain": [
       "   gender_Male  gender_Other\n",
       "0            1             0\n",
       "1            0             0"
      ]
     },
     "execution_count": 1438,
     "metadata": {},
     "output_type": "execute_result"
    }
   ],
   "source": [
    "#Handle gender column\n",
    "gender = pd.get_dummies(d[['gender']], drop_first= True)\n",
    "gender.head(2)"
   ]
  },
  {
   "cell_type": "code",
   "execution_count": 1439,
   "id": "fa849e3c",
   "metadata": {},
   "outputs": [
    {
     "data": {
      "text/html": [
       "<div>\n",
       "<style scoped>\n",
       "    .dataframe tbody tr th:only-of-type {\n",
       "        vertical-align: middle;\n",
       "    }\n",
       "\n",
       "    .dataframe tbody tr th {\n",
       "        vertical-align: top;\n",
       "    }\n",
       "\n",
       "    .dataframe thead th {\n",
       "        text-align: right;\n",
       "    }\n",
       "</style>\n",
       "<table border=\"1\" class=\"dataframe\">\n",
       "  <thead>\n",
       "    <tr style=\"text-align: right;\">\n",
       "      <th></th>\n",
       "      <th>ever_married_Yes</th>\n",
       "    </tr>\n",
       "  </thead>\n",
       "  <tbody>\n",
       "    <tr>\n",
       "      <th>0</th>\n",
       "      <td>1</td>\n",
       "    </tr>\n",
       "    <tr>\n",
       "      <th>1</th>\n",
       "      <td>1</td>\n",
       "    </tr>\n",
       "  </tbody>\n",
       "</table>\n",
       "</div>"
      ],
      "text/plain": [
       "   ever_married_Yes\n",
       "0                 1\n",
       "1                 1"
      ]
     },
     "execution_count": 1439,
     "metadata": {},
     "output_type": "execute_result"
    }
   ],
   "source": [
    "#Handle ever_married column\n",
    "d['ever_married']=d['ever_married'].replace({'No':0,'Yes':1})\n",
    "married.head(2)"
   ]
  },
  {
   "cell_type": "code",
   "execution_count": 1440,
   "id": "93028350",
   "metadata": {},
   "outputs": [
    {
     "data": {
      "text/html": [
       "<div>\n",
       "<style scoped>\n",
       "    .dataframe tbody tr th:only-of-type {\n",
       "        vertical-align: middle;\n",
       "    }\n",
       "\n",
       "    .dataframe tbody tr th {\n",
       "        vertical-align: top;\n",
       "    }\n",
       "\n",
       "    .dataframe thead th {\n",
       "        text-align: right;\n",
       "    }\n",
       "</style>\n",
       "<table border=\"1\" class=\"dataframe\">\n",
       "  <thead>\n",
       "    <tr style=\"text-align: right;\">\n",
       "      <th></th>\n",
       "      <th>Residence_type_Urban</th>\n",
       "    </tr>\n",
       "  </thead>\n",
       "  <tbody>\n",
       "    <tr>\n",
       "      <th>0</th>\n",
       "      <td>1</td>\n",
       "    </tr>\n",
       "    <tr>\n",
       "      <th>1</th>\n",
       "      <td>0</td>\n",
       "    </tr>\n",
       "  </tbody>\n",
       "</table>\n",
       "</div>"
      ],
      "text/plain": [
       "   Residence_type_Urban\n",
       "0                     1\n",
       "1                     0"
      ]
     },
     "execution_count": 1440,
     "metadata": {},
     "output_type": "execute_result"
    }
   ],
   "source": [
    "#Handle Residence_type column\n",
    "d['Residence_type']=d['Residence_type'].replace({'Rural':0,'Urban':1})\n",
    "residence.head(2)"
   ]
  },
  {
   "cell_type": "code",
   "execution_count": 1441,
   "id": "e61c639d",
   "metadata": {},
   "outputs": [
    {
     "data": {
      "text/html": [
       "<div>\n",
       "<style scoped>\n",
       "    .dataframe tbody tr th:only-of-type {\n",
       "        vertical-align: middle;\n",
       "    }\n",
       "\n",
       "    .dataframe tbody tr th {\n",
       "        vertical-align: top;\n",
       "    }\n",
       "\n",
       "    .dataframe thead th {\n",
       "        text-align: right;\n",
       "    }\n",
       "</style>\n",
       "<table border=\"1\" class=\"dataframe\">\n",
       "  <thead>\n",
       "    <tr style=\"text-align: right;\">\n",
       "      <th></th>\n",
       "      <th>work_type_Never_worked</th>\n",
       "      <th>work_type_Private</th>\n",
       "      <th>work_type_Self-employed</th>\n",
       "      <th>work_type_children</th>\n",
       "    </tr>\n",
       "  </thead>\n",
       "  <tbody>\n",
       "    <tr>\n",
       "      <th>0</th>\n",
       "      <td>0</td>\n",
       "      <td>1</td>\n",
       "      <td>0</td>\n",
       "      <td>0</td>\n",
       "    </tr>\n",
       "    <tr>\n",
       "      <th>1</th>\n",
       "      <td>0</td>\n",
       "      <td>0</td>\n",
       "      <td>1</td>\n",
       "      <td>0</td>\n",
       "    </tr>\n",
       "  </tbody>\n",
       "</table>\n",
       "</div>"
      ],
      "text/plain": [
       "   work_type_Never_worked  work_type_Private  work_type_Self-employed  \\\n",
       "0                       0                  1                        0   \n",
       "1                       0                  0                        1   \n",
       "\n",
       "   work_type_children  \n",
       "0                   0  \n",
       "1                   0  "
      ]
     },
     "execution_count": 1441,
     "metadata": {},
     "output_type": "execute_result"
    }
   ],
   "source": [
    "#Handle work_type column\n",
    "work = pd.get_dummies(d[['work_type']], drop_first= True)\n",
    "work.head(2)"
   ]
  },
  {
   "cell_type": "code",
   "execution_count": 1442,
   "id": "85232487",
   "metadata": {},
   "outputs": [],
   "source": [
    "data = pd.concat([d, gender, work, smoking], axis = 1)\n",
    "data = data.drop(columns=['gender', 'work_type','smoking_status'], axis=1)\n"
   ]
  },
  {
   "cell_type": "code",
   "execution_count": 1443,
   "id": "5628385f",
   "metadata": {},
   "outputs": [
    {
     "name": "stdout",
     "output_type": "stream",
     "text": [
      "<class 'pandas.core.frame.DataFrame'>\n",
      "RangeIndex: 5110 entries, 0 to 5109\n",
      "Data columns (total 18 columns):\n",
      " #   Column                          Non-Null Count  Dtype  \n",
      "---  ------                          --------------  -----  \n",
      " 0   id                              5110 non-null   int64  \n",
      " 1   age                             5110 non-null   float64\n",
      " 2   hypertension                    5110 non-null   int64  \n",
      " 3   heart_disease                   5110 non-null   int64  \n",
      " 4   ever_married                    5110 non-null   int64  \n",
      " 5   Residence_type                  5110 non-null   int64  \n",
      " 6   avg_glucose_level               5110 non-null   float64\n",
      " 7   bmi                             5110 non-null   float64\n",
      " 8   stroke                          5110 non-null   int64  \n",
      " 9   gender_Male                     5110 non-null   uint8  \n",
      " 10  gender_Other                    5110 non-null   uint8  \n",
      " 11  work_type_Never_worked          5110 non-null   uint8  \n",
      " 12  work_type_Private               5110 non-null   uint8  \n",
      " 13  work_type_Self-employed         5110 non-null   uint8  \n",
      " 14  work_type_children              5110 non-null   uint8  \n",
      " 15  smoking_status_formerly smoked  5110 non-null   uint8  \n",
      " 16  smoking_status_never smoked     5110 non-null   uint8  \n",
      " 17  smoking_status_smokes           5110 non-null   uint8  \n",
      "dtypes: float64(3), int64(6), uint8(9)\n",
      "memory usage: 404.3 KB\n"
     ]
    }
   ],
   "source": [
    "#showing information about dataset\n",
    "data.info()"
   ]
  },
  {
   "cell_type": "code",
   "execution_count": 1444,
   "id": "4c7ec76a",
   "metadata": {},
   "outputs": [
    {
     "data": {
      "text/plain": [
       "id                                0\n",
       "age                               0\n",
       "hypertension                      0\n",
       "heart_disease                     0\n",
       "ever_married                      0\n",
       "Residence_type                    0\n",
       "avg_glucose_level                 0\n",
       "bmi                               0\n",
       "stroke                            0\n",
       "gender_Male                       0\n",
       "gender_Other                      0\n",
       "work_type_Never_worked            0\n",
       "work_type_Private                 0\n",
       "work_type_Self-employed           0\n",
       "work_type_children                0\n",
       "smoking_status_formerly smoked    0\n",
       "smoking_status_never smoked       0\n",
       "smoking_status_smokes             0\n",
       "dtype: int64"
      ]
     },
     "execution_count": 1444,
     "metadata": {},
     "output_type": "execute_result"
    }
   ],
   "source": [
    "data.isna().sum()"
   ]
  },
  {
   "cell_type": "markdown",
   "id": "4f93bc12",
   "metadata": {},
   "source": [
    "# Correlation"
   ]
  },
  {
   "cell_type": "code",
   "execution_count": 1445,
   "id": "55b2e287",
   "metadata": {
    "scrolled": true
   },
   "outputs": [
    {
     "data": {
      "text/plain": [
       "<AxesSubplot:>"
      ]
     },
     "execution_count": 1445,
     "metadata": {},
     "output_type": "execute_result"
    },
    {
     "data": {
      "image/png": "[encoded data removed]",
      "text/plain": [
       "<Figure size 1440x1440 with 2 Axes>"
      ]
     },
     "metadata": {
      "needs_background": "light"
     },
     "output_type": "display_data"
    }
   ],
   "source": [
    "plt.figure(figsize=(20,20))\n",
    "sns.heatmap(data.corr(),annot=True,fmt='.2')"
   ]
  },
  {
   "cell_type": "markdown",
   "id": "d8eca90c",
   "metadata": {},
   "source": [
    "1-The (age) has (0.25) high correlation with (stroke).\n",
    "2-(Hypertension)- (heart _disease) and (avg_glucose_ level) have (0.13) correlation with (stroke).\n",
    "3-The (ever_ married) has (0.11) correlation with (stroke).\n",
    "4-The (age) has (0.68) correlation with (ever_ married)."
   ]
  },
  {
   "cell_type": "markdown",
   "id": "37e6804a",
   "metadata": {},
   "source": [
    "# Train & Test Split  And Scale"
   ]
  },
  {
   "cell_type": "code",
   "execution_count": 1446,
   "id": "414933f6",
   "metadata": {},
   "outputs": [],
   "source": [
    "X= data.drop('stroke', axis=1)"
   ]
  },
  {
   "cell_type": "code",
   "execution_count": 1447,
   "id": "a3e34d38",
   "metadata": {},
   "outputs": [
    {
     "data": {
      "text/plain": [
       "0    1\n",
       "1    1\n",
       "2    1\n",
       "3    1\n",
       "4    1\n",
       "Name: stroke, dtype: int64"
      ]
     },
     "execution_count": 1447,
     "metadata": {},
     "output_type": "execute_result"
    }
   ],
   "source": [
    "Y = data['stroke']\n",
    "Y.head()"
   ]
  },
  {
   "cell_type": "code",
   "execution_count": 1448,
   "id": "6c7d33b9",
   "metadata": {},
   "outputs": [
    {
     "data": {
      "text/plain": [
       "StandardScaler()"
      ]
     },
     "execution_count": 1448,
     "metadata": {},
     "output_type": "execute_result"
    }
   ],
   "source": [
    "scaler = StandardScaler()\n",
    "scaler.fit(X)"
   ]
  },
  {
   "cell_type": "code",
   "execution_count": 1449,
   "id": "d69a425c",
   "metadata": {},
   "outputs": [],
   "source": [
    " #Splitting data\n",
    "X_train, X_test, y_train, y_test = train_test_split(X, Y, test_size=0.3, shuffle=True, random_state=1)"
   ]
  },
  {
   "cell_type": "code",
   "execution_count": 1450,
   "id": "13fcf528",
   "metadata": {},
   "outputs": [
    {
     "data": {
      "text/plain": [
       "((3577, 17), (1533, 17), (3577,), (1533,))"
      ]
     },
     "execution_count": 1450,
     "metadata": {},
     "output_type": "execute_result"
    }
   ],
   "source": [
    "# Shape of data \n",
    "X_train.shape,X_test.shape,y_train.shape,y_test .shape"
   ]
  },
  {
   "cell_type": "markdown",
   "id": "446b8254",
   "metadata": {},
   "source": [
    "# Machine Learning Models"
   ]
  },
  {
   "cell_type": "markdown",
   "id": "d88b7abb",
   "metadata": {},
   "source": [
    "#### 1-Logistic Regression(Training & Accuracy ):"
   ]
  },
  {
   "cell_type": "code",
   "execution_count": 1451,
   "id": "42ecb628",
   "metadata": {},
   "outputs": [],
   "source": [
    "#Training\n",
    "LG = LogisticRegression()\n",
    "LG_model=LG.fit(X_train, y_train)"
   ]
  },
  {
   "cell_type": "code",
   "execution_count": 1452,
   "id": "e8a8a026",
   "metadata": {},
   "outputs": [
    {
     "data": {
      "text/plain": [
       "94.45531637312459"
      ]
     },
     "execution_count": 1452,
     "metadata": {},
     "output_type": "execute_result"
    }
   ],
   "source": [
    "# accuracy \n",
    "LG.score(X_test,y_test)*100"
   ]
  },
  {
   "cell_type": "code",
   "execution_count": 1453,
   "id": "67f5c1ef",
   "metadata": {},
   "outputs": [
    {
     "data": {
      "text/plain": [
       "0.02298850574712644"
      ]
     },
     "execution_count": 1453,
     "metadata": {},
     "output_type": "execute_result"
    }
   ],
   "source": [
    "#f1_score\n",
    "y_pred_LG= LG.predict(X_test)\n",
    "f1_score(y_test,y_pred_LG)"
   ]
  },
  {
   "cell_type": "code",
   "execution_count": 1454,
   "id": "899abf8b",
   "metadata": {},
   "outputs": [
    {
     "data": {
      "text/plain": [
       "array([[1447,    3],\n",
       "       [  82,    1]], dtype=int64)"
      ]
     },
     "execution_count": 1454,
     "metadata": {},
     "output_type": "execute_result"
    }
   ],
   "source": [
    "#confusion_matrix\n",
    "confusion_matrix(y_test,y_pred_LG)"
   ]
  },
  {
   "cell_type": "code",
   "execution_count": 1455,
   "id": "da3657d3",
   "metadata": {},
   "outputs": [
    {
     "data": {
      "text/plain": [
       "0.9432603344368051"
      ]
     },
     "execution_count": 1455,
     "metadata": {},
     "output_type": "execute_result"
    }
   ],
   "source": [
    "crosscore_LG =cross_val_score(LG, X_test, y_test, cv = 10).mean() \n",
    "cross_val_score(LG, X_test, y_test, cv = 10).mean()"
   ]
  },
  {
   "cell_type": "markdown",
   "id": "23c20b29",
   "metadata": {},
   "source": [
    "#### 2-Decision Tree Classifier(Training & Accuracy ):"
   ]
  },
  {
   "cell_type": "code",
   "execution_count": 1456,
   "id": "67f7e5bc",
   "metadata": {},
   "outputs": [],
   "source": [
    "#Training \n",
    "D = DecisionTreeClassifier(random_state=1)\n",
    "D_model=D.fit(X_train, y_train)"
   ]
  },
  {
   "cell_type": "code",
   "execution_count": 1457,
   "id": "c7249683",
   "metadata": {},
   "outputs": [
    {
     "data": {
      "text/plain": [
       "91.51989562948467"
      ]
     },
     "execution_count": 1457,
     "metadata": {},
     "output_type": "execute_result"
    }
   ],
   "source": [
    "# accuracy \n",
    "D.score(X_test,y_test)*100"
   ]
  },
  {
   "cell_type": "code",
   "execution_count": 1458,
   "id": "5f6e2c3e",
   "metadata": {},
   "outputs": [
    {
     "data": {
      "text/plain": [
       "0.19753086419753085"
      ]
     },
     "execution_count": 1458,
     "metadata": {},
     "output_type": "execute_result"
    }
   ],
   "source": [
    "#f1_score\n",
    "y_pred_D = D.predict(X_test)\n",
    "f1_score(y_test, y_pred_D)"
   ]
  },
  {
   "cell_type": "code",
   "execution_count": 1459,
   "id": "a7c9b6c9",
   "metadata": {},
   "outputs": [
    {
     "data": {
      "text/plain": [
       "array([[1387,   63],\n",
       "       [  67,   16]], dtype=int64)"
      ]
     },
     "execution_count": 1459,
     "metadata": {},
     "output_type": "execute_result"
    }
   ],
   "source": [
    "#confusion_matrix\n",
    "confusion_matrix(y_test,y_pred_D)"
   ]
  },
  {
   "cell_type": "code",
   "execution_count": 1460,
   "id": "e883e0bd",
   "metadata": {},
   "outputs": [
    {
     "data": {
      "text/plain": [
       "0.9053985230455819"
      ]
     },
     "execution_count": 1460,
     "metadata": {},
     "output_type": "execute_result"
    }
   ],
   "source": [
    "crosscore_D =cross_val_score(D, X_test, y_test, cv = 10).mean() \n",
    "cross_val_score(D, X_test, y_test, cv = 10).mean()"
   ]
  },
  {
   "cell_type": "markdown",
   "id": "ff57ed43",
   "metadata": {},
   "source": [
    "#### 3-Support Vector Machine(Training & Accuracy ):"
   ]
  },
  {
   "cell_type": "code",
   "execution_count": 1461,
   "id": "be49fe63",
   "metadata": {},
   "outputs": [],
   "source": [
    "#Training \n",
    "S= SVC()\n",
    "S_model=S.fit(X_train, y_train)"
   ]
  },
  {
   "cell_type": "code",
   "execution_count": 1462,
   "id": "fb0f66d6",
   "metadata": {},
   "outputs": [
    {
     "data": {
      "text/plain": [
       "94.58577951728635"
      ]
     },
     "execution_count": 1462,
     "metadata": {},
     "output_type": "execute_result"
    }
   ],
   "source": [
    "# accuracy \n",
    "S.score(X_test,y_test)*100"
   ]
  },
  {
   "cell_type": "code",
   "execution_count": 1463,
   "id": "906cbf28",
   "metadata": {},
   "outputs": [
    {
     "data": {
      "text/plain": [
       "0.0"
      ]
     },
     "execution_count": 1463,
     "metadata": {},
     "output_type": "execute_result"
    }
   ],
   "source": [
    "#f1_score\n",
    "y_pred_S = S.predict(X_test)\n",
    "f1_score(y_test, y_pred_S)"
   ]
  },
  {
   "cell_type": "code",
   "execution_count": 1464,
   "id": "68d232ed",
   "metadata": {},
   "outputs": [
    {
     "data": {
      "text/plain": [
       "array([[1450,    0],\n",
       "       [  83,    0]], dtype=int64)"
      ]
     },
     "execution_count": 1464,
     "metadata": {},
     "output_type": "execute_result"
    }
   ],
   "source": [
    "#confusion_matrix\n",
    "confusion_matrix(y_test,y_pred_S)"
   ]
  },
  {
   "cell_type": "code",
   "execution_count": 1465,
   "id": "1100a09d",
   "metadata": {},
   "outputs": [
    {
     "data": {
      "text/plain": [
       "0.94586622527799"
      ]
     },
     "execution_count": 1465,
     "metadata": {},
     "output_type": "execute_result"
    }
   ],
   "source": [
    "crosscore_S =cross_val_score(S, X_test, y_test, cv = 10).mean() \n",
    "cross_val_score(S, X_test, y_test, cv = 10).mean()"
   ]
  },
  {
   "cell_type": "markdown",
   "id": "0354b4ab",
   "metadata": {},
   "source": [
    "#### 4-Random Forest Classifier(Training & Accuracy ):"
   ]
  },
  {
   "cell_type": "code",
   "execution_count": 1466,
   "id": "17e7d8ee",
   "metadata": {},
   "outputs": [],
   "source": [
    "#Training \n",
    "RF = RandomForestClassifier()\n",
    "RF_model=RF.fit(X_train, y_train)"
   ]
  },
  {
   "cell_type": "code",
   "execution_count": 1467,
   "id": "06f9b9a4",
   "metadata": {},
   "outputs": [
    {
     "data": {
      "text/plain": [
       "94.45531637312459"
      ]
     },
     "execution_count": 1467,
     "metadata": {},
     "output_type": "execute_result"
    }
   ],
   "source": [
    "# accuracy\n",
    "RF.score(X_test,y_test)*100"
   ]
  },
  {
   "cell_type": "code",
   "execution_count": 1468,
   "id": "823c763e",
   "metadata": {},
   "outputs": [
    {
     "data": {
      "text/plain": [
       "0.0"
      ]
     },
     "execution_count": 1468,
     "metadata": {},
     "output_type": "execute_result"
    }
   ],
   "source": [
    "#f1_score\n",
    "y_pred_RF = RF.predict(X_test)\n",
    "f1_score(y_test, y_pred_RF)"
   ]
  },
  {
   "cell_type": "code",
   "execution_count": 1469,
   "id": "95b36280",
   "metadata": {},
   "outputs": [
    {
     "data": {
      "text/plain": [
       "array([[1448,    2],\n",
       "       [  83,    0]], dtype=int64)"
      ]
     },
     "execution_count": 1469,
     "metadata": {},
     "output_type": "execute_result"
    }
   ],
   "source": [
    "#confusion_matrix\n",
    "confusion_matrix(y_test,y_pred_RF)"
   ]
  },
  {
   "cell_type": "code",
   "execution_count": 1470,
   "id": "ebfdb642",
   "metadata": {},
   "outputs": [
    {
     "data": {
      "text/plain": [
       "0.9452126305067482"
      ]
     },
     "execution_count": 1470,
     "metadata": {},
     "output_type": "execute_result"
    }
   ],
   "source": [
    "crosscore_RF =cross_val_score(RF, X_test, y_test, cv = 10).mean() \n",
    "cross_val_score(RF, X_test, y_test, cv = 10).mean()"
   ]
  },
  {
   "cell_type": "markdown",
   "id": "5a05826b",
   "metadata": {},
   "source": [
    "#### 5-KNeighbors Classifier(Training & Accuracy ):"
   ]
  },
  {
   "cell_type": "code",
   "execution_count": 1471,
   "id": "427ff950",
   "metadata": {},
   "outputs": [],
   "source": [
    "#Training\n",
    "K= KNeighborsClassifier()\n",
    "K_model=K.fit(X_train, y_train)"
   ]
  },
  {
   "cell_type": "code",
   "execution_count": 1472,
   "id": "98e34288",
   "metadata": {},
   "outputs": [
    {
     "data": {
      "text/plain": [
       "94.58577951728635"
      ]
     },
     "execution_count": 1472,
     "metadata": {},
     "output_type": "execute_result"
    }
   ],
   "source": [
    "# accuracy \n",
    "K.score(X_test,y_test)*100"
   ]
  },
  {
   "cell_type": "code",
   "execution_count": 1473,
   "id": "17ff8bf9",
   "metadata": {},
   "outputs": [
    {
     "data": {
      "text/plain": [
       "0.023529411764705882"
      ]
     },
     "execution_count": 1473,
     "metadata": {},
     "output_type": "execute_result"
    }
   ],
   "source": [
    "#f1_score\n",
    "y_pred_K = K.predict(X_test)\n",
    "f1_score(y_test, y_pred_K)"
   ]
  },
  {
   "cell_type": "code",
   "execution_count": 1474,
   "id": "bb1930c2",
   "metadata": {},
   "outputs": [
    {
     "data": {
      "text/plain": [
       "array([[1449,    1],\n",
       "       [  82,    1]], dtype=int64)"
      ]
     },
     "execution_count": 1474,
     "metadata": {},
     "output_type": "execute_result"
    }
   ],
   "source": [
    "#confusion_matrix\n",
    "confusion_matrix(y_test, y_pred_K)"
   ]
  },
  {
   "cell_type": "code",
   "execution_count": 1475,
   "id": "3e30b64c",
   "metadata": {},
   "outputs": [
    {
     "data": {
      "text/plain": [
       "0.943913929208047"
      ]
     },
     "execution_count": 1475,
     "metadata": {},
     "output_type": "execute_result"
    }
   ],
   "source": [
    "crosscore_K =cross_val_score(K, X_test, y_test, cv = 10).mean() \n",
    "cross_val_score(K, X_test, y_test, cv = 10).mean()"
   ]
  },
  {
   "cell_type": "markdown",
   "id": "b4dc57de",
   "metadata": {},
   "source": [
    "#### 6-GaussianNB(Training & Accuracy ):"
   ]
  },
  {
   "cell_type": "code",
   "execution_count": 1476,
   "id": "15bb39ea",
   "metadata": {},
   "outputs": [],
   "source": [
    "#Training\n",
    "NB = GaussianNB()\n",
    "NB_model=NB.fit(X_train, y_train)"
   ]
  },
  {
   "cell_type": "code",
   "execution_count": 1477,
   "id": "e62442a0",
   "metadata": {},
   "outputs": [
    {
     "data": {
      "text/plain": [
       "92.82452707110241"
      ]
     },
     "execution_count": 1477,
     "metadata": {},
     "output_type": "execute_result"
    }
   ],
   "source": [
    "# accuracy \n",
    "NB.score(X_test,y_test)*100"
   ]
  },
  {
   "cell_type": "code",
   "execution_count": 1478,
   "id": "86233a45",
   "metadata": {},
   "outputs": [
    {
     "data": {
      "text/plain": [
       "0.26666666666666666"
      ]
     },
     "execution_count": 1478,
     "metadata": {},
     "output_type": "execute_result"
    }
   ],
   "source": [
    "#f1_score\n",
    "y_pred_NB = NB.predict(X_test)\n",
    "f1_score(y_test, y_pred_NB)"
   ]
  },
  {
   "cell_type": "code",
   "execution_count": 1479,
   "id": "1c689528",
   "metadata": {},
   "outputs": [
    {
     "data": {
      "text/plain": [
       "array([[1403,   47],\n",
       "       [  63,   20]], dtype=int64)"
      ]
     },
     "execution_count": 1479,
     "metadata": {},
     "output_type": "execute_result"
    }
   ],
   "source": [
    "#confusion_matrix\n",
    "confusion_matrix(y_test, y_pred_NB)"
   ]
  },
  {
   "cell_type": "code",
   "execution_count": 1480,
   "id": "d58668c9",
   "metadata": {},
   "outputs": [
    {
     "data": {
      "text/plain": [
       "0.9099864188099482"
      ]
     },
     "execution_count": 1480,
     "metadata": {},
     "output_type": "execute_result"
    }
   ],
   "source": [
    "crosscore_NB =cross_val_score(NB, X_test, y_test, cv = 10).mean() \n",
    "cross_val_score(NB, X_test, y_test, cv = 10).mean()"
   ]
  },
  {
   "cell_type": "markdown",
   "id": "c8f198e3",
   "metadata": {},
   "source": [
    "#### 7-Support Vector Machine (Linear Kernel)(Training & Accuracy ):"
   ]
  },
  {
   "cell_type": "code",
   "execution_count": 1481,
   "id": "3afab843",
   "metadata": {},
   "outputs": [
    {
     "data": {
      "text/plain": [
       "LinearSVC()"
      ]
     },
     "execution_count": 1481,
     "metadata": {},
     "output_type": "execute_result"
    }
   ],
   "source": [
    "#Training\n",
    "L_S=LinearSVC()\n",
    "L_S.fit(X_train, y_train)"
   ]
  },
  {
   "cell_type": "code",
   "execution_count": 1482,
   "id": "7eddb9c4",
   "metadata": {},
   "outputs": [
    {
     "data": {
      "text/plain": [
       "94.58577951728635"
      ]
     },
     "execution_count": 1482,
     "metadata": {},
     "output_type": "execute_result"
    }
   ],
   "source": [
    "# accuracy \n",
    "L_S.score(X_test,y_test)*100"
   ]
  },
  {
   "cell_type": "code",
   "execution_count": 1483,
   "id": "a9f05de7",
   "metadata": {},
   "outputs": [
    {
     "data": {
      "text/plain": [
       "0.0"
      ]
     },
     "execution_count": 1483,
     "metadata": {},
     "output_type": "execute_result"
    }
   ],
   "source": [
    "#f1_score\n",
    "y_pred_L_S = L_S.predict(X_test)\n",
    "f1_score(y_test, y_pred_L_S)"
   ]
  },
  {
   "cell_type": "code",
   "execution_count": 1484,
   "id": "63bc7813",
   "metadata": {},
   "outputs": [
    {
     "data": {
      "text/plain": [
       "array([[1450,    0],\n",
       "       [  83,    0]], dtype=int64)"
      ]
     },
     "execution_count": 1484,
     "metadata": {},
     "output_type": "execute_result"
    }
   ],
   "source": [
    "#confusion_matrix\n",
    "confusion_matrix(y_test,y_pred_L_S)"
   ]
  },
  {
   "cell_type": "code",
   "execution_count": 1485,
   "id": "9204a2ef",
   "metadata": {},
   "outputs": [
    {
     "data": {
      "text/plain": [
       "0.83001443001443"
      ]
     },
     "execution_count": 1485,
     "metadata": {},
     "output_type": "execute_result"
    }
   ],
   "source": [
    "crosscore_L_S =cross_val_score(L_S, X_test, y_test, cv = 10).mean() \n",
    "cross_val_score(L_S, X_test, y_test, cv = 10).mean()"
   ]
  },
  {
   "cell_type": "markdown",
   "id": "3c924f8a",
   "metadata": {},
   "source": [
    "#### 8-Neural Network(Training & Accuracy ):"
   ]
  },
  {
   "cell_type": "code",
   "execution_count": 1486,
   "id": "0b07545a",
   "metadata": {},
   "outputs": [
    {
     "data": {
      "text/plain": [
       "MLPClassifier()"
      ]
     },
     "execution_count": 1486,
     "metadata": {},
     "output_type": "execute_result"
    }
   ],
   "source": [
    "#Training\n",
    "ML=MLPClassifier()\n",
    "ML.fit(X_train, y_train)"
   ]
  },
  {
   "cell_type": "code",
   "execution_count": 1487,
   "id": "974979a5",
   "metadata": {},
   "outputs": [
    {
     "data": {
      "text/plain": [
       "94.52054794520548"
      ]
     },
     "execution_count": 1487,
     "metadata": {},
     "output_type": "execute_result"
    }
   ],
   "source": [
    "# accuracy\n",
    "ML.score(X_test,y_test)*100"
   ]
  },
  {
   "cell_type": "code",
   "execution_count": 1488,
   "id": "06d9d2b3",
   "metadata": {},
   "outputs": [
    {
     "data": {
      "text/plain": [
       "0.0"
      ]
     },
     "execution_count": 1488,
     "metadata": {},
     "output_type": "execute_result"
    }
   ],
   "source": [
    "#f1_score\n",
    "y_pred_ML = ML.predict(X_test)\n",
    "f1_score(y_test, y_pred_ML)"
   ]
  },
  {
   "cell_type": "code",
   "execution_count": 1489,
   "id": "a38fad80",
   "metadata": {},
   "outputs": [
    {
     "data": {
      "text/plain": [
       "array([[1449,    1],\n",
       "       [  83,    0]], dtype=int64)"
      ]
     },
     "execution_count": 1489,
     "metadata": {},
     "output_type": "execute_result"
    }
   ],
   "source": [
    "#confusion_matrix\n",
    "confusion_matrix(y_test,y_pred_ML)"
   ]
  },
  {
   "cell_type": "code",
   "execution_count": 1490,
   "id": "e26cd601",
   "metadata": {},
   "outputs": [
    {
     "data": {
      "text/plain": [
       "0.930833545539428"
      ]
     },
     "execution_count": 1490,
     "metadata": {},
     "output_type": "execute_result"
    }
   ],
   "source": [
    "crosscore_ML =cross_val_score(ML, X_test, y_test, cv = 10).mean() \n",
    "cross_val_score(ML, X_test, y_test, cv = 10).mean()"
   ]
  },
  {
   "cell_type": "markdown",
   "id": "b81ca598",
   "metadata": {},
   "source": [
    "#### 9-Gradient Boosting (Training & Accuracy ):"
   ]
  },
  {
   "cell_type": "code",
   "execution_count": 1491,
   "id": "1048e8b7",
   "metadata": {},
   "outputs": [
    {
     "data": {
      "text/plain": [
       "GradientBoostingClassifier()"
      ]
     },
     "execution_count": 1491,
     "metadata": {},
     "output_type": "execute_result"
    }
   ],
   "source": [
    "#Training\n",
    "GR=GradientBoostingClassifier()\n",
    "GR.fit(X_train, y_train)"
   ]
  },
  {
   "cell_type": "code",
   "execution_count": 1492,
   "id": "00d085ad",
   "metadata": {},
   "outputs": [
    {
     "data": {
      "text/plain": [
       "94.52054794520548"
      ]
     },
     "execution_count": 1492,
     "metadata": {},
     "output_type": "execute_result"
    }
   ],
   "source": [
    "# accuracy \n",
    "GR.score(X_test,y_test)*100"
   ]
  },
  {
   "cell_type": "code",
   "execution_count": 1493,
   "id": "8a2274a1",
   "metadata": {},
   "outputs": [
    {
     "data": {
      "text/plain": [
       "0.045454545454545456"
      ]
     },
     "execution_count": 1493,
     "metadata": {},
     "output_type": "execute_result"
    }
   ],
   "source": [
    "#f1_score\n",
    "y_pred_GR = GR.predict(X_test)\n",
    "f1_score(y_test, y_pred_GR)"
   ]
  },
  {
   "cell_type": "code",
   "execution_count": 1494,
   "id": "02fd69cf",
   "metadata": {},
   "outputs": [
    {
     "data": {
      "text/plain": [
       "array([[1447,    3],\n",
       "       [  81,    2]], dtype=int64)"
      ]
     },
     "execution_count": 1494,
     "metadata": {},
     "output_type": "execute_result"
    }
   ],
   "source": [
    "#confusion_matrix\n",
    "confusion_matrix(y_test,y_pred_GR)"
   ]
  },
  {
   "cell_type": "code",
   "execution_count": 1495,
   "id": "a0843d2f",
   "metadata": {},
   "outputs": [
    {
     "data": {
      "text/plain": [
       "0.9386979034037857"
      ]
     },
     "execution_count": 1495,
     "metadata": {},
     "output_type": "execute_result"
    }
   ],
   "source": [
    "crosscore_GR =cross_val_score(GR, X_test, y_test, cv = 10).mean() \n",
    "cross_val_score(GR, X_test, y_test, cv = 10).mean()"
   ]
  },
  {
   "cell_type": "markdown",
   "id": "309991fe",
   "metadata": {},
   "source": [
    "#### 10-Cat Boost Classifier (Training & Accuracy ):"
   ]
  },
  {
   "cell_type": "code",
   "execution_count": 1496,
   "id": "08d1d997",
   "metadata": {},
   "outputs": [
    {
     "data": {
      "text/plain": [
       "<catboost.core.CatBoostClassifier at 0x29d2eb89880>"
      ]
     },
     "execution_count": 1496,
     "metadata": {},
     "output_type": "execute_result"
    }
   ],
   "source": [
    "#Training\n",
    "CAT=CatBoostClassifier(verbose=0)\n",
    "CAT.fit(X_train, y_train)"
   ]
  },
  {
   "cell_type": "code",
   "execution_count": 1497,
   "id": "4e084dfd",
   "metadata": {},
   "outputs": [
    {
     "data": {
      "text/plain": [
       "94.25962165688193"
      ]
     },
     "execution_count": 1497,
     "metadata": {},
     "output_type": "execute_result"
    }
   ],
   "source": [
    "# accuracy\n",
    "CAT.score(X_test,y_test)*100"
   ]
  },
  {
   "cell_type": "code",
   "execution_count": 1498,
   "id": "11e8cd4c",
   "metadata": {},
   "outputs": [
    {
     "data": {
      "text/plain": [
       "0.0"
      ]
     },
     "execution_count": 1498,
     "metadata": {},
     "output_type": "execute_result"
    }
   ],
   "source": [
    "#f1_score\n",
    "y_pred_CAT = CAT.predict(X_test)\n",
    "f1_score(y_test, y_pred_CAT)"
   ]
  },
  {
   "cell_type": "code",
   "execution_count": 1499,
   "id": "847e28d9",
   "metadata": {},
   "outputs": [
    {
     "data": {
      "text/plain": [
       "array([[1445,    5],\n",
       "       [  83,    0]], dtype=int64)"
      ]
     },
     "execution_count": 1499,
     "metadata": {},
     "output_type": "execute_result"
    }
   ],
   "source": [
    "#confusion_matrix\n",
    "confusion_matrix(y_test,y_pred_CAT)"
   ]
  },
  {
   "cell_type": "code",
   "execution_count": 1500,
   "id": "e106c0de",
   "metadata": {},
   "outputs": [
    {
     "data": {
      "text/plain": [
       "0.9386851710381123"
      ]
     },
     "execution_count": 1500,
     "metadata": {},
     "output_type": "execute_result"
    }
   ],
   "source": [
    "crosscore_CAT =cross_val_score(CAT, X_test, y_test, cv = 10).mean() \n",
    "cross_val_score(CAT, X_test, y_test, cv = 10).mean()"
   ]
  },
  {
   "cell_type": "markdown",
   "id": "6e91a3a0",
   "metadata": {},
   "source": [
    "#### 11-LGBM Classifier (Training & Accuracy ):"
   ]
  },
  {
   "cell_type": "code",
   "execution_count": 1501,
   "id": "f355b157",
   "metadata": {},
   "outputs": [
    {
     "data": {
      "text/plain": [
       "LGBMClassifier()"
      ]
     },
     "execution_count": 1501,
     "metadata": {},
     "output_type": "execute_result"
    }
   ],
   "source": [
    "#Training\n",
    "LGB=LGBMClassifier()\n",
    "LGB.fit(X_train, y_train)"
   ]
  },
  {
   "cell_type": "code",
   "execution_count": 1502,
   "id": "9419507b",
   "metadata": {},
   "outputs": [
    {
     "data": {
      "text/plain": [
       "93.9334637964775"
      ]
     },
     "execution_count": 1502,
     "metadata": {},
     "output_type": "execute_result"
    }
   ],
   "source": [
    "# accuracy\n",
    "LGB.score(X_test,y_test)*100"
   ]
  },
  {
   "cell_type": "code",
   "execution_count": 1503,
   "id": "43e277b0",
   "metadata": {},
   "outputs": [
    {
     "data": {
      "text/plain": [
       "0.0"
      ]
     },
     "execution_count": 1503,
     "metadata": {},
     "output_type": "execute_result"
    }
   ],
   "source": [
    "#f1_score\n",
    "y_pred_LGB = LGB.predict(X_test)\n",
    "f1_score(y_test, y_pred_LGB)"
   ]
  },
  {
   "cell_type": "code",
   "execution_count": 1504,
   "id": "1edb346b",
   "metadata": {},
   "outputs": [
    {
     "data": {
      "text/plain": [
       "array([[1440,   10],\n",
       "       [  83,    0]], dtype=int64)"
      ]
     },
     "execution_count": 1504,
     "metadata": {},
     "output_type": "execute_result"
    }
   ],
   "source": [
    "#confusion_matrix\n",
    "confusion_matrix(y_test,y_pred_LGB)"
   ]
  },
  {
   "cell_type": "code",
   "execution_count": 1505,
   "id": "75db5c86",
   "metadata": {},
   "outputs": [
    {
     "data": {
      "text/plain": [
       "0.9360750360750361"
      ]
     },
     "execution_count": 1505,
     "metadata": {},
     "output_type": "execute_result"
    }
   ],
   "source": [
    "crosscore_LGB =cross_val_score(LGB, X_test, y_test, cv = 10).mean() \n",
    "cross_val_score(LGB, X_test, y_test, cv = 10).mean()"
   ]
  },
  {
   "cell_type": "markdown",
   "id": "89d5aa0e",
   "metadata": {},
   "source": [
    "#### 12- XGB Classifier(Training & Accuracy ):"
   ]
  },
  {
   "cell_type": "code",
   "execution_count": 1506,
   "id": "cf3cb4e6",
   "metadata": {},
   "outputs": [
    {
     "data": {
      "text/plain": [
       "XGBClassifier(base_score=0.5, booster='gbtree', colsample_bylevel=1,\n",
       "              colsample_bynode=1, colsample_bytree=1, enable_categorical=False,\n",
       "              eval_metric='mlogloss', gamma=0, gpu_id=-1, importance_type=None,\n",
       "              interaction_constraints='', learning_rate=0.300000012,\n",
       "              max_delta_step=0, max_depth=6, min_child_weight=1, missing=nan,\n",
       "              monotone_constraints='()', n_estimators=100, n_jobs=8,\n",
       "              num_parallel_tree=1, predictor='auto', random_state=0,\n",
       "              reg_alpha=0, reg_lambda=1, scale_pos_weight=1, subsample=1,\n",
       "              tree_method='exact', validate_parameters=1, verbosity=None)"
      ]
     },
     "execution_count": 1506,
     "metadata": {},
     "output_type": "execute_result"
    }
   ],
   "source": [
    "#Training\n",
    "XGB= XGBClassifier(eval_metric='mlogloss')\n",
    "XGB.fit(X_train, y_train)"
   ]
  },
  {
   "cell_type": "code",
   "execution_count": 1507,
   "id": "e49861ac",
   "metadata": {},
   "outputs": [
    {
     "data": {
      "text/plain": [
       "93.99869536855839"
      ]
     },
     "execution_count": 1507,
     "metadata": {},
     "output_type": "execute_result"
    }
   ],
   "source": [
    "# accuracy\n",
    "XGB.score(X_test,y_test)*100"
   ]
  },
  {
   "cell_type": "code",
   "execution_count": 1508,
   "id": "6d1915a6",
   "metadata": {},
   "outputs": [
    {
     "data": {
      "text/plain": [
       "0.061224489795918366"
      ]
     },
     "execution_count": 1508,
     "metadata": {},
     "output_type": "execute_result"
    }
   ],
   "source": [
    "#f1_score\n",
    "y_pred_XGB = XGB.predict(X_test)\n",
    "f1_score(y_test, y_pred_XGB)"
   ]
  },
  {
   "cell_type": "code",
   "execution_count": 1509,
   "id": "e6a2cd8c",
   "metadata": {},
   "outputs": [
    {
     "data": {
      "text/plain": [
       "array([[1440,   10],\n",
       "       [  83,    0]], dtype=int64)"
      ]
     },
     "execution_count": 1509,
     "metadata": {},
     "output_type": "execute_result"
    }
   ],
   "source": [
    "#confusion_matrix\n",
    "confusion_matrix(y_test,y_pred_LGB)"
   ]
  },
  {
   "cell_type": "code",
   "execution_count": 1510,
   "id": "a463b17f",
   "metadata": {},
   "outputs": [
    {
     "data": {
      "text/plain": [
       "0.93346490111196"
      ]
     },
     "execution_count": 1510,
     "metadata": {},
     "output_type": "execute_result"
    }
   ],
   "source": [
    "crosscore_XGB =cross_val_score(XGB, X_test, y_test, cv = 10).mean() \n",
    "cross_val_score(XGB, X_test, y_test, cv = 10).mean()"
   ]
  },
  {
   "cell_type": "markdown",
   "id": "ab1d4948",
   "metadata": {},
   "source": [
    "# Handling Class Imbalance "
   ]
  },
  {
   "cell_type": "code",
   "execution_count": 1511,
   "id": "9c12d931",
   "metadata": {},
   "outputs": [],
   "source": [
    "smote=SMOTE()\n",
    "X__train,y__train=smote.fit_resample(X_train,y_train)\n",
    "X__test,y__test=smote.fit_resample(X_test,y_test)"
   ]
  },
  {
   "cell_type": "code",
   "execution_count": 1512,
   "id": "9ae23b8d",
   "metadata": {},
   "outputs": [
    {
     "data": {
      "text/plain": [
       "((6822, 17), (2900, 17), (6822,), (2900,))"
      ]
     },
     "execution_count": 1512,
     "metadata": {},
     "output_type": "execute_result"
    }
   ],
   "source": [
    "X__train.shape,X__test.shape,y__train.shape,y__test .shape"
   ]
  },
  {
   "cell_type": "code",
   "execution_count": 1513,
   "id": "cdcb6ac8",
   "metadata": {},
   "outputs": [
    {
     "data": {
      "text/plain": [
       "0    3411\n",
       "1    3411\n",
       "Name: stroke, dtype: int64"
      ]
     },
     "execution_count": 1513,
     "metadata": {},
     "output_type": "execute_result"
    }
   ],
   "source": [
    "y__train.value_counts()"
   ]
  },
  {
   "cell_type": "markdown",
   "id": "1068e53f",
   "metadata": {},
   "source": [
    "# Machine Learning Models After Handling Imbalance"
   ]
  },
  {
   "cell_type": "markdown",
   "id": "32178adf",
   "metadata": {},
   "source": [
    "#### 1-Logistic Regression(Training & Accuracy ):"
   ]
  },
  {
   "cell_type": "code",
   "execution_count": 1514,
   "id": "f11145b9",
   "metadata": {},
   "outputs": [],
   "source": [
    "#Training\n",
    "LG_ = LogisticRegression()\n",
    "LG_model=LG_.fit(X__train, y__train)"
   ]
  },
  {
   "cell_type": "code",
   "execution_count": 1515,
   "id": "67c9012e",
   "metadata": {},
   "outputs": [
    {
     "data": {
      "text/plain": [
       "81.40900195694715"
      ]
     },
     "execution_count": 1515,
     "metadata": {},
     "output_type": "execute_result"
    }
   ],
   "source": [
    "# accuracy \n",
    "LG_.score(X_test,y_test)*100"
   ]
  },
  {
   "cell_type": "code",
   "execution_count": 1516,
   "id": "248416ca",
   "metadata": {},
   "outputs": [
    {
     "data": {
      "text/plain": [
       "0.223433242506812"
      ]
     },
     "execution_count": 1516,
     "metadata": {},
     "output_type": "execute_result"
    }
   ],
   "source": [
    "#f1_score\n",
    "y_pred_LG_= LG_.predict(X_test)\n",
    "f1_score(y_test,y_pred_LG_)"
   ]
  },
  {
   "cell_type": "code",
   "execution_count": 1517,
   "id": "40c4464f",
   "metadata": {},
   "outputs": [
    {
     "data": {
      "text/plain": [
       "array([[1207,  243],\n",
       "       [  42,   41]], dtype=int64)"
      ]
     },
     "execution_count": 1517,
     "metadata": {},
     "output_type": "execute_result"
    }
   ],
   "source": [
    "#confusion_matrix\n",
    "confusion_matrix(y_test,y_pred_LG_)"
   ]
  },
  {
   "cell_type": "code",
   "execution_count": 1518,
   "id": "e300de19",
   "metadata": {},
   "outputs": [
    {
     "data": {
      "text/plain": [
       "0.8127586206896552"
      ]
     },
     "execution_count": 1518,
     "metadata": {},
     "output_type": "execute_result"
    }
   ],
   "source": [
    "crosscore_LG_ =cross_val_score(LG_, X__test, y__test, cv = 10).mean() \n",
    "cross_val_score(LG_, X__test, y__test, cv = 10).mean()"
   ]
  },
  {
   "cell_type": "markdown",
   "id": "aa72febb",
   "metadata": {},
   "source": [
    "#### 2-Decision Tree Classifier(Training & Accuracy ):\n"
   ]
  },
  {
   "cell_type": "code",
   "execution_count": 1519,
   "id": "bfde3fc4",
   "metadata": {},
   "outputs": [],
   "source": [
    "#Training \n",
    "D_ = DecisionTreeClassifier(random_state=1)\n",
    "D_model=D_.fit(X__train, y__train)"
   ]
  },
  {
   "cell_type": "code",
   "execution_count": 1520,
   "id": "240d8188",
   "metadata": {},
   "outputs": [
    {
     "data": {
      "text/plain": [
       "86.36660143509458"
      ]
     },
     "execution_count": 1520,
     "metadata": {},
     "output_type": "execute_result"
    }
   ],
   "source": [
    "# accuracy \n",
    "D_.score(X_test,y_test)*100"
   ]
  },
  {
   "cell_type": "code",
   "execution_count": 1521,
   "id": "19a91494",
   "metadata": {},
   "outputs": [
    {
     "data": {
      "text/plain": [
       "0.09523809523809526"
      ]
     },
     "execution_count": 1521,
     "metadata": {},
     "output_type": "execute_result"
    }
   ],
   "source": [
    "#f1_score\n",
    "y_pred_D_=D_.predict(X_test)\n",
    "f1_score(y_test,y_pred_D_)"
   ]
  },
  {
   "cell_type": "code",
   "execution_count": 1522,
   "id": "c9988e2f",
   "metadata": {},
   "outputs": [
    {
     "data": {
      "text/plain": [
       "array([[1313,  137],\n",
       "       [  72,   11]], dtype=int64)"
      ]
     },
     "execution_count": 1522,
     "metadata": {},
     "output_type": "execute_result"
    }
   ],
   "source": [
    "#confusion_matrix\n",
    "confusion_matrix(y_test, y_pred_D_)"
   ]
  },
  {
   "cell_type": "code",
   "execution_count": 1523,
   "id": "4ccc385b",
   "metadata": {},
   "outputs": [
    {
     "data": {
      "text/plain": [
       "0.9179310344827586"
      ]
     },
     "execution_count": 1523,
     "metadata": {},
     "output_type": "execute_result"
    }
   ],
   "source": [
    "crosscore_D_ =cross_val_score(D_, X__test, y__test, cv = 10).mean() \n",
    "cross_val_score(D_, X__test, y__test, cv = 10).mean()"
   ]
  },
  {
   "cell_type": "markdown",
   "id": "c867de4b",
   "metadata": {},
   "source": [
    "#### 3-Support Vector Machine(Training & Accuracy ):"
   ]
  },
  {
   "cell_type": "code",
   "execution_count": 1544,
   "id": "b7dc9dd9",
   "metadata": {},
   "outputs": [],
   "source": [
    "#Training \n",
    "S_= SVC()\n",
    "S_model=S_.fit(X__train, y__train)"
   ]
  },
  {
   "cell_type": "code",
   "execution_count": 1545,
   "id": "d4fef91c",
   "metadata": {},
   "outputs": [
    {
     "data": {
      "text/plain": [
       "75.27723418134377"
      ]
     },
     "execution_count": 1545,
     "metadata": {},
     "output_type": "execute_result"
    }
   ],
   "source": [
    "# accuracy \n",
    "S_.score(X_test,y_test)*100"
   ]
  },
  {
   "cell_type": "code",
   "execution_count": 1546,
   "id": "c5b8baab",
   "metadata": {},
   "outputs": [
    {
     "data": {
      "text/plain": [
       "0.08232445520581114"
      ]
     },
     "execution_count": 1546,
     "metadata": {},
     "output_type": "execute_result"
    }
   ],
   "source": [
    "#f1_score\n",
    "y_pred_S_=S_.predict(X_test)\n",
    "f1_score(y_test,y_pred_S_)"
   ]
  },
  {
   "cell_type": "code",
   "execution_count": 1547,
   "id": "892f443e",
   "metadata": {},
   "outputs": [
    {
     "data": {
      "text/plain": [
       "array([[1137,  313],\n",
       "       [  66,   17]], dtype=int64)"
      ]
     },
     "execution_count": 1547,
     "metadata": {},
     "output_type": "execute_result"
    }
   ],
   "source": [
    "#confusion_matrix\n",
    "confusion_matrix(y_test, y_pred_S_)"
   ]
  },
  {
   "cell_type": "code",
   "execution_count": 1548,
   "id": "3f1fcfd1",
   "metadata": {},
   "outputs": [
    {
     "data": {
      "text/plain": [
       "0.5313793103448277"
      ]
     },
     "execution_count": 1548,
     "metadata": {},
     "output_type": "execute_result"
    }
   ],
   "source": [
    "crosscore_S_ =cross_val_score(S_, X__test, y__test, cv = 10).mean() \n",
    "cross_val_score(S_, X__test, y__test, cv = 10).mean()"
   ]
  },
  {
   "cell_type": "markdown",
   "id": "49aeedda",
   "metadata": {},
   "source": [
    "#### 4-Random Forest Classifier(Training & Accuracy ):"
   ]
  },
  {
   "cell_type": "code",
   "execution_count": 1529,
   "id": "a6d73631",
   "metadata": {},
   "outputs": [],
   "source": [
    "#Training \n",
    "RF_ = RandomForestClassifier()\n",
    "RF_model=RF_.fit(X__train, y__train)"
   ]
  },
  {
   "cell_type": "code",
   "execution_count": 1530,
   "id": "a0a1557d",
   "metadata": {},
   "outputs": [
    {
     "data": {
      "text/plain": [
       "90.28049575994781"
      ]
     },
     "execution_count": 1530,
     "metadata": {},
     "output_type": "execute_result"
    }
   ],
   "source": [
    "# accuracy \n",
    "RF_.score(X_test,y_test)*100"
   ]
  },
  {
   "cell_type": "code",
   "execution_count": 1531,
   "id": "75513161",
   "metadata": {},
   "outputs": [
    {
     "data": {
      "text/plain": [
       "0.07453416149068322"
      ]
     },
     "execution_count": 1531,
     "metadata": {},
     "output_type": "execute_result"
    }
   ],
   "source": [
    "#f1_score\n",
    "y_pred_RF_=RF_.predict(X_test)\n",
    "f1_score(y_test,y_pred_RF_)"
   ]
  },
  {
   "cell_type": "code",
   "execution_count": 1532,
   "id": "22876619",
   "metadata": {},
   "outputs": [
    {
     "data": {
      "text/plain": [
       "array([[1378,   72],\n",
       "       [  77,    6]], dtype=int64)"
      ]
     },
     "execution_count": 1532,
     "metadata": {},
     "output_type": "execute_result"
    }
   ],
   "source": [
    "#confusion_matrix\n",
    "confusion_matrix(y_test, y_pred_RF_)"
   ]
  },
  {
   "cell_type": "code",
   "execution_count": 1533,
   "id": "872695b6",
   "metadata": {},
   "outputs": [
    {
     "data": {
      "text/plain": [
       "0.95"
      ]
     },
     "execution_count": 1533,
     "metadata": {},
     "output_type": "execute_result"
    }
   ],
   "source": [
    "crosscore_RF_ =cross_val_score(RF_, X__test, y__test, cv = 10).mean() \n",
    "cross_val_score(RF_, X__test, y__test, cv = 10).mean()"
   ]
  },
  {
   "cell_type": "markdown",
   "id": "0cece9c8",
   "metadata": {},
   "source": [
    "#### 5-KNeighbors Classifier(Training & Accuracy ):"
   ]
  },
  {
   "cell_type": "code",
   "execution_count": 1549,
   "id": "675006bd",
   "metadata": {},
   "outputs": [],
   "source": [
    "#Training\n",
    "K_= KNeighborsClassifier()\n",
    "K_model=K_.fit(X__train, y__train)"
   ]
  },
  {
   "cell_type": "code",
   "execution_count": 1550,
   "id": "0a53241b",
   "metadata": {},
   "outputs": [
    {
     "data": {
      "text/plain": [
       "69.79778212654925"
      ]
     },
     "execution_count": 1550,
     "metadata": {},
     "output_type": "execute_result"
    }
   ],
   "source": [
    "# accuracy \n",
    "K_.score(X_test,y_test)*100"
   ]
  },
  {
   "cell_type": "code",
   "execution_count": 1551,
   "id": "85c218b6",
   "metadata": {},
   "outputs": [
    {
     "data": {
      "text/plain": [
       "0.14732965009208104"
      ]
     },
     "execution_count": 1551,
     "metadata": {},
     "output_type": "execute_result"
    }
   ],
   "source": [
    "#f1_score\n",
    "y_pred_K_=K_.predict(X_test)\n",
    "f1_score(y_test,y_pred_K_)"
   ]
  },
  {
   "cell_type": "code",
   "execution_count": 1552,
   "id": "1aad2207",
   "metadata": {},
   "outputs": [
    {
     "data": {
      "text/plain": [
       "array([[1030,  420],\n",
       "       [  43,   40]], dtype=int64)"
      ]
     },
     "execution_count": 1552,
     "metadata": {},
     "output_type": "execute_result"
    }
   ],
   "source": [
    "#confusion_matrix\n",
    "confusion_matrix(y_test, y_pred_K_)"
   ]
  },
  {
   "cell_type": "code",
   "execution_count": 1553,
   "id": "721537bc",
   "metadata": {},
   "outputs": [
    {
     "data": {
      "text/plain": [
       "0.7151724137931035"
      ]
     },
     "execution_count": 1553,
     "metadata": {},
     "output_type": "execute_result"
    }
   ],
   "source": [
    "crosscore_K_ =cross_val_score(K_, X__test, y__test, cv = 10).mean() \n",
    "cross_val_score(K_, X__test, y__test, cv = 10).mean()"
   ]
  },
  {
   "cell_type": "markdown",
   "id": "b35afce5",
   "metadata": {},
   "source": [
    "#### 6-GaussianNB(Training & Accuracy ):"
   ]
  },
  {
   "cell_type": "code",
   "execution_count": 1554,
   "id": "db630802",
   "metadata": {},
   "outputs": [],
   "source": [
    "#Training\n",
    "NB_ = GaussianNB()\n",
    "NB_model=NB_.fit(X__train, y__train)"
   ]
  },
  {
   "cell_type": "code",
   "execution_count": 1555,
   "id": "089021b1",
   "metadata": {},
   "outputs": [
    {
     "data": {
      "text/plain": [
       "67.9712981082844"
      ]
     },
     "execution_count": 1555,
     "metadata": {},
     "output_type": "execute_result"
    }
   ],
   "source": [
    "# accuracy \n",
    "NB_.score(X_test,y_test)*100"
   ]
  },
  {
   "cell_type": "code",
   "execution_count": 1556,
   "id": "f7d4fb4c",
   "metadata": {},
   "outputs": [
    {
     "data": {
      "text/plain": [
       "0.23161189358372455"
      ]
     },
     "execution_count": 1556,
     "metadata": {},
     "output_type": "execute_result"
    }
   ],
   "source": [
    "#f1_score\n",
    "y_pred_NB_=NB_.predict(X_test)\n",
    "f1_score(y_test,y_pred_NB_)"
   ]
  },
  {
   "cell_type": "code",
   "execution_count": 1557,
   "id": "1b22be16",
   "metadata": {},
   "outputs": [
    {
     "data": {
      "text/plain": [
       "array([[968, 482],\n",
       "       [  9,  74]], dtype=int64)"
      ]
     },
     "execution_count": 1557,
     "metadata": {},
     "output_type": "execute_result"
    }
   ],
   "source": [
    "#confusion_matrix\n",
    "confusion_matrix(y_test, y_pred_NB_)"
   ]
  },
  {
   "cell_type": "code",
   "execution_count": 1558,
   "id": "b2963f78",
   "metadata": {},
   "outputs": [
    {
     "data": {
      "text/plain": [
       "0.829655172413793"
      ]
     },
     "execution_count": 1558,
     "metadata": {},
     "output_type": "execute_result"
    }
   ],
   "source": [
    "crosscore_NB_ =cross_val_score(NB_, X__test, y__test, cv = 10).mean() \n",
    "cross_val_score(NB_, X__test, y__test, cv = 10).mean()"
   ]
  },
  {
   "cell_type": "markdown",
   "id": "dbc0bcdb",
   "metadata": {},
   "source": [
    "#### 7-Support Vector Machine (Linear Kernel)(Training & Accuracy ):"
   ]
  },
  {
   "cell_type": "code",
   "execution_count": 1559,
   "id": "e273f437",
   "metadata": {},
   "outputs": [
    {
     "data": {
      "text/plain": [
       "LinearSVC()"
      ]
     },
     "execution_count": 1559,
     "metadata": {},
     "output_type": "execute_result"
    }
   ],
   "source": [
    "#Training\n",
    "L_S_=LinearSVC()\n",
    "L_S_.fit(X__train, y__train)"
   ]
  },
  {
   "cell_type": "code",
   "execution_count": 1560,
   "id": "5bece963",
   "metadata": {},
   "outputs": [
    {
     "data": {
      "text/plain": [
       "94.12915851272015"
      ]
     },
     "execution_count": 1560,
     "metadata": {},
     "output_type": "execute_result"
    }
   ],
   "source": [
    "# accuracy \n",
    "L_S_.score(X_test,y_test)*100"
   ]
  },
  {
   "cell_type": "code",
   "execution_count": 1561,
   "id": "7e5fb9c8",
   "metadata": {},
   "outputs": [
    {
     "data": {
      "text/plain": [
       "0.1176470588235294"
      ]
     },
     "execution_count": 1561,
     "metadata": {},
     "output_type": "execute_result"
    }
   ],
   "source": [
    "#f1_score\n",
    "y_pred_L_S_=L_S_.predict(X_test)\n",
    "f1_score(y_test,y_pred_L_S_)"
   ]
  },
  {
   "cell_type": "code",
   "execution_count": 1562,
   "id": "a67b22a6",
   "metadata": {},
   "outputs": [
    {
     "data": {
      "text/plain": [
       "array([[1437,   13],\n",
       "       [  77,    6]], dtype=int64)"
      ]
     },
     "execution_count": 1562,
     "metadata": {},
     "output_type": "execute_result"
    }
   ],
   "source": [
    "#confusion_matrix\n",
    "confusion_matrix(y_test, y_pred_L_S_)"
   ]
  },
  {
   "cell_type": "code",
   "execution_count": 1563,
   "id": "f5ed0643",
   "metadata": {},
   "outputs": [
    {
     "data": {
      "text/plain": [
       "0.6986206896551724"
      ]
     },
     "execution_count": 1563,
     "metadata": {},
     "output_type": "execute_result"
    }
   ],
   "source": [
    "crosscore_L_S_ =cross_val_score(L_S_, X__test, y__test, cv = 10).mean() \n",
    "cross_val_score(L_S_, X__test, y__test, cv = 10).mean()"
   ]
  },
  {
   "cell_type": "markdown",
   "id": "d059ffc0",
   "metadata": {},
   "source": [
    "#### 8-Neural Network(Training & Accuracy ):"
   ]
  },
  {
   "cell_type": "code",
   "execution_count": 1564,
   "id": "4fa4e1f3",
   "metadata": {},
   "outputs": [
    {
     "data": {
      "text/plain": [
       "MLPClassifier()"
      ]
     },
     "execution_count": 1564,
     "metadata": {},
     "output_type": "execute_result"
    }
   ],
   "source": [
    "#Training\n",
    "ML_=MLPClassifier()\n",
    "ML_.fit(X__train, y__train)"
   ]
  },
  {
   "cell_type": "code",
   "execution_count": 1565,
   "id": "01de83d3",
   "metadata": {},
   "outputs": [
    {
     "data": {
      "text/plain": [
       "93.47684279191128"
      ]
     },
     "execution_count": 1565,
     "metadata": {},
     "output_type": "execute_result"
    }
   ],
   "source": [
    "# accuracy \n",
    "ML_.score(X_test,y_test)*100"
   ]
  },
  {
   "cell_type": "code",
   "execution_count": 1566,
   "id": "ac84eee2",
   "metadata": {},
   "outputs": [
    {
     "data": {
      "text/plain": [
       "0.13793103448275862"
      ]
     },
     "execution_count": 1566,
     "metadata": {},
     "output_type": "execute_result"
    }
   ],
   "source": [
    "#f1_score\n",
    "y_pred_ML_=ML_.predict(X_test)\n",
    "f1_score(y_test,y_pred_ML_)"
   ]
  },
  {
   "cell_type": "code",
   "execution_count": 1567,
   "id": "b68646bf",
   "metadata": {},
   "outputs": [
    {
     "data": {
      "text/plain": [
       "array([[1425,   25],\n",
       "       [  75,    8]], dtype=int64)"
      ]
     },
     "execution_count": 1567,
     "metadata": {},
     "output_type": "execute_result"
    }
   ],
   "source": [
    "#confusion_matrix\n",
    "confusion_matrix(y_test, y_pred_ML_)"
   ]
  },
  {
   "cell_type": "code",
   "execution_count": 1568,
   "id": "560be1cb",
   "metadata": {},
   "outputs": [
    {
     "data": {
      "text/plain": [
       "0.5372413793103449"
      ]
     },
     "execution_count": 1568,
     "metadata": {},
     "output_type": "execute_result"
    }
   ],
   "source": [
    "crosscore_ML_ =cross_val_score(ML_, X__test, y__test, cv = 10).mean() \n",
    "cross_val_score(ML_, X__test, y__test, cv = 10).mean()"
   ]
  },
  {
   "cell_type": "markdown",
   "id": "dde107e4",
   "metadata": {},
   "source": [
    "#### 9-=GradientBoostingClassifier(Training & Accuracy ):"
   ]
  },
  {
   "cell_type": "code",
   "execution_count": 1569,
   "id": "c5e05648",
   "metadata": {},
   "outputs": [
    {
     "data": {
      "text/plain": [
       "GradientBoostingClassifier()"
      ]
     },
     "execution_count": 1569,
     "metadata": {},
     "output_type": "execute_result"
    }
   ],
   "source": [
    "#Training\n",
    "GR_=GradientBoostingClassifier()\n",
    "GR_.fit(X__train, y__train)"
   ]
  },
  {
   "cell_type": "code",
   "execution_count": 1570,
   "id": "f5645ec1",
   "metadata": {},
   "outputs": [
    {
     "data": {
      "text/plain": [
       "86.2361382909328"
      ]
     },
     "execution_count": 1570,
     "metadata": {},
     "output_type": "execute_result"
    }
   ],
   "source": [
    "# accuracy \n",
    "GR_.score(X_test,y_test)*100"
   ]
  },
  {
   "cell_type": "code",
   "execution_count": 1571,
   "id": "8dd78aea",
   "metadata": {},
   "outputs": [
    {
     "data": {
      "text/plain": [
       "0.1316872427983539"
      ]
     },
     "execution_count": 1571,
     "metadata": {},
     "output_type": "execute_result"
    }
   ],
   "source": [
    "#f1_score\n",
    "y_pred_GR_=GR_.predict(X_test)\n",
    "f1_score(y_test,y_pred_GR_)"
   ]
  },
  {
   "cell_type": "code",
   "execution_count": 1572,
   "id": "c36a65bf",
   "metadata": {},
   "outputs": [
    {
     "data": {
      "text/plain": [
       "array([[1306,  144],\n",
       "       [  67,   16]], dtype=int64)"
      ]
     },
     "execution_count": 1572,
     "metadata": {},
     "output_type": "execute_result"
    }
   ],
   "source": [
    "#confusion_matrix\n",
    "confusion_matrix(y_test, y_pred_GR_)"
   ]
  },
  {
   "cell_type": "code",
   "execution_count": 1573,
   "id": "d6d022cb",
   "metadata": {},
   "outputs": [
    {
     "data": {
      "text/plain": [
       "0.9241379310344829"
      ]
     },
     "execution_count": 1573,
     "metadata": {},
     "output_type": "execute_result"
    }
   ],
   "source": [
    "crosscore_GR_ =cross_val_score(GR_, X__test, y__test, cv = 10).mean() \n",
    "cross_val_score(GR_, X__test, y__test, cv = 10).mean()"
   ]
  },
  {
   "cell_type": "markdown",
   "id": "4fab1b90",
   "metadata": {},
   "source": [
    "#### 10-Cat Boost Classifier (Training & Accuracy ):"
   ]
  },
  {
   "cell_type": "code",
   "execution_count": 1574,
   "id": "6578b108",
   "metadata": {},
   "outputs": [
    {
     "data": {
      "text/plain": [
       "<catboost.core.CatBoostClassifier at 0x29d2eb89a90>"
      ]
     },
     "execution_count": 1574,
     "metadata": {},
     "output_type": "execute_result"
    }
   ],
   "source": [
    "#Training\n",
    "CAT_=CatBoostClassifier(verbose=0)\n",
    "CAT_.fit(X__train, y__train)"
   ]
  },
  {
   "cell_type": "code",
   "execution_count": 1575,
   "id": "a38ab686",
   "metadata": {},
   "outputs": [
    {
     "data": {
      "text/plain": [
       "89.49771689497716"
      ]
     },
     "execution_count": 1575,
     "metadata": {},
     "output_type": "execute_result"
    }
   ],
   "source": [
    "# accuracy \n",
    "CAT_.score(X_test,y_test)*100"
   ]
  },
  {
   "cell_type": "code",
   "execution_count": 1576,
   "id": "44b680cb",
   "metadata": {},
   "outputs": [
    {
     "data": {
      "text/plain": [
       "0.11049723756906078"
      ]
     },
     "execution_count": 1576,
     "metadata": {},
     "output_type": "execute_result"
    }
   ],
   "source": [
    "#f1_score\n",
    "y_pred_CAT_=CAT_.predict(X_test)\n",
    "f1_score(y_test,y_pred_CAT_)"
   ]
  },
  {
   "cell_type": "code",
   "execution_count": 1577,
   "id": "075e3edd",
   "metadata": {},
   "outputs": [
    {
     "data": {
      "text/plain": [
       "array([[1362,   88],\n",
       "       [  73,   10]], dtype=int64)"
      ]
     },
     "execution_count": 1577,
     "metadata": {},
     "output_type": "execute_result"
    }
   ],
   "source": [
    "#confusion_matrix\n",
    "confusion_matrix(y_test, y_pred_CAT_)"
   ]
  },
  {
   "cell_type": "code",
   "execution_count": 1578,
   "id": "921abf27",
   "metadata": {},
   "outputs": [
    {
     "data": {
      "text/plain": [
       "0.9479310344827587"
      ]
     },
     "execution_count": 1578,
     "metadata": {},
     "output_type": "execute_result"
    }
   ],
   "source": [
    "crosscore_CAT_ =cross_val_score(CAT_, X__test, y__test, cv = 10).mean() \n",
    "cross_val_score(CAT_, X__test, y__test, cv = 10).mean()"
   ]
  },
  {
   "cell_type": "markdown",
   "id": "b2841f15",
   "metadata": {},
   "source": [
    "#### 11-LGBM Classifier (Training & Accuracy ):"
   ]
  },
  {
   "cell_type": "code",
   "execution_count": 1579,
   "id": "12ccacef",
   "metadata": {},
   "outputs": [
    {
     "data": {
      "text/plain": [
       "LGBMClassifier()"
      ]
     },
     "execution_count": 1579,
     "metadata": {},
     "output_type": "execute_result"
    }
   ],
   "source": [
    "#Training\n",
    "LGB_=LGBMClassifier()\n",
    "LGB_.fit(X__train, y__train)"
   ]
  },
  {
   "cell_type": "code",
   "execution_count": 1580,
   "id": "75d0944e",
   "metadata": {},
   "outputs": [
    {
     "data": {
      "text/plain": [
       "90.08480104370516"
      ]
     },
     "execution_count": 1580,
     "metadata": {},
     "output_type": "execute_result"
    }
   ],
   "source": [
    "# accuracy \n",
    "LGB_.score(X_test,y_test)*100"
   ]
  },
  {
   "cell_type": "code",
   "execution_count": 1581,
   "id": "5c213c9c",
   "metadata": {},
   "outputs": [
    {
     "data": {
      "text/plain": [
       "0.07317073170731707"
      ]
     },
     "execution_count": 1581,
     "metadata": {},
     "output_type": "execute_result"
    }
   ],
   "source": [
    "#f1_score\n",
    "y_pred_LGB_=LGB_.predict(X_test)\n",
    "f1_score(y_test,y_pred_LGB_)"
   ]
  },
  {
   "cell_type": "code",
   "execution_count": 1582,
   "id": "ac56a11d",
   "metadata": {},
   "outputs": [
    {
     "data": {
      "text/plain": [
       "array([[1375,   75],\n",
       "       [  77,    6]], dtype=int64)"
      ]
     },
     "execution_count": 1582,
     "metadata": {},
     "output_type": "execute_result"
    }
   ],
   "source": [
    "#confusion_matrix\n",
    "confusion_matrix(y_test, y_pred_LGB_)"
   ]
  },
  {
   "cell_type": "code",
   "execution_count": 1583,
   "id": "fa0defec",
   "metadata": {},
   "outputs": [
    {
     "data": {
      "text/plain": [
       "0.9537931034482761"
      ]
     },
     "execution_count": 1583,
     "metadata": {},
     "output_type": "execute_result"
    }
   ],
   "source": [
    "crosscore_LGB_ =cross_val_score(LGB_, X__test, y__test, cv = 10).mean() \n",
    "cross_val_score(LGB_, X__test, y__test, cv = 10).mean()"
   ]
  },
  {
   "cell_type": "markdown",
   "id": "7a92c5ee",
   "metadata": {},
   "source": [
    "#### 12- XGB Classifier(Training & Accuracy ):"
   ]
  },
  {
   "cell_type": "code",
   "execution_count": 1584,
   "id": "10af9f0b",
   "metadata": {},
   "outputs": [
    {
     "data": {
      "text/plain": [
       "XGBClassifier(base_score=0.5, booster='gbtree', colsample_bylevel=1,\n",
       "              colsample_bynode=1, colsample_bytree=1, enable_categorical=False,\n",
       "              eval_metric='mlogloss', gamma=0, gpu_id=-1, importance_type=None,\n",
       "              interaction_constraints='', learning_rate=0.300000012,\n",
       "              max_delta_step=0, max_depth=6, min_child_weight=1, missing=nan,\n",
       "              monotone_constraints='()', n_estimators=100, n_jobs=8,\n",
       "              num_parallel_tree=1, predictor='auto', random_state=0,\n",
       "              reg_alpha=0, reg_lambda=1, scale_pos_weight=1, subsample=1,\n",
       "              tree_method='exact', validate_parameters=1, verbosity=None)"
      ]
     },
     "execution_count": 1584,
     "metadata": {},
     "output_type": "execute_result"
    }
   ],
   "source": [
    "#Training\n",
    "XGB_= XGBClassifier(eval_metric='mlogloss')\n",
    "XGB_.fit(X__train, y__train)"
   ]
  },
  {
   "cell_type": "code",
   "execution_count": 1585,
   "id": "37d40638",
   "metadata": {},
   "outputs": [
    {
     "data": {
      "text/plain": [
       "90.67188519243314"
      ]
     },
     "execution_count": 1585,
     "metadata": {},
     "output_type": "execute_result"
    }
   ],
   "source": [
    "# accuracy \n",
    "XGB_.score(X_test,y_test)*100"
   ]
  },
  {
   "cell_type": "code",
   "execution_count": 1586,
   "id": "43ed1ade",
   "metadata": {},
   "outputs": [
    {
     "data": {
      "text/plain": [
       "0.12269938650306748"
      ]
     },
     "execution_count": 1586,
     "metadata": {},
     "output_type": "execute_result"
    }
   ],
   "source": [
    "#f1_score\n",
    "y_pred_XGB_=XGB_.predict(X_test)\n",
    "f1_score(y_test,y_pred_XGB_)"
   ]
  },
  {
   "cell_type": "code",
   "execution_count": 1587,
   "id": "06a79f04",
   "metadata": {},
   "outputs": [
    {
     "data": {
      "text/plain": [
       "array([[1380,   70],\n",
       "       [  73,   10]], dtype=int64)"
      ]
     },
     "execution_count": 1587,
     "metadata": {},
     "output_type": "execute_result"
    }
   ],
   "source": [
    "#confusion_matrix\n",
    "confusion_matrix(y_test, y_pred_XGB_)"
   ]
  },
  {
   "cell_type": "code",
   "execution_count": 1588,
   "id": "e93aa2a6",
   "metadata": {},
   "outputs": [
    {
     "data": {
      "text/plain": [
       "0.9524137931034483"
      ]
     },
     "execution_count": 1588,
     "metadata": {},
     "output_type": "execute_result"
    }
   ],
   "source": [
    "crosscore_XGB_ =cross_val_score(XGB_, X__test, y__test, cv = 10).mean() \n",
    "cross_val_score(XGB_, X__test, y__test, cv = 10).mean()"
   ]
  },
  {
   "cell_type": "markdown",
   "id": "d05eeb24",
   "metadata": {},
   "source": [
    "# Unsupervised Learning Models"
   ]
  },
  {
   "cell_type": "code",
   "execution_count": 1589,
   "id": "63230204",
   "metadata": {},
   "outputs": [],
   "source": [
    "#Training\n",
    "Kmeans=KMeans(n_clusters=2)\n",
    "K_mod=Kmeans.fit(X)"
   ]
  },
  {
   "cell_type": "code",
   "execution_count": 1590,
   "id": "f4806b22",
   "metadata": {},
   "outputs": [
    {
     "data": {
      "text/html": [
       "<div>\n",
       "<style scoped>\n",
       "    .dataframe tbody tr th:only-of-type {\n",
       "        vertical-align: middle;\n",
       "    }\n",
       "\n",
       "    .dataframe tbody tr th {\n",
       "        vertical-align: top;\n",
       "    }\n",
       "\n",
       "    .dataframe thead th {\n",
       "        text-align: right;\n",
       "    }\n",
       "</style>\n",
       "<table border=\"1\" class=\"dataframe\">\n",
       "  <thead>\n",
       "    <tr style=\"text-align: right;\">\n",
       "      <th>col_0</th>\n",
       "      <th>0</th>\n",
       "      <th>1</th>\n",
       "    </tr>\n",
       "    <tr>\n",
       "      <th>stroke</th>\n",
       "      <th></th>\n",
       "      <th></th>\n",
       "    </tr>\n",
       "  </thead>\n",
       "  <tbody>\n",
       "    <tr>\n",
       "      <th>0</th>\n",
       "      <td>2371</td>\n",
       "      <td>2490</td>\n",
       "    </tr>\n",
       "    <tr>\n",
       "      <th>1</th>\n",
       "      <td>121</td>\n",
       "      <td>128</td>\n",
       "    </tr>\n",
       "  </tbody>\n",
       "</table>\n",
       "</div>"
      ],
      "text/plain": [
       "col_0      0     1\n",
       "stroke            \n",
       "0       2371  2490\n",
       "1        121   128"
      ]
     },
     "execution_count": 1590,
     "metadata": {},
     "output_type": "execute_result"
    }
   ],
   "source": [
    "pd.crosstab(Y,K_mod.labels_)\n"
   ]
  },
  {
   "cell_type": "code",
   "execution_count": null,
   "id": "4a645d1b",
   "metadata": {},
   "outputs": [],
   "source": []
  }
 ],
 "metadata": {
  "kernelspec": {
   "display_name": "Python 3 (ipykernel)",
   "language": "python",
   "name": "python3"
  },
  "language_info": {
   "codemirror_mode": {
    "name": "ipython",
    "version": 3
   },
   "file_extension": ".py",
   "mimetype": "text/x-python",
   "name": "python",
   "nbconvert_exporter": "python",
   "pygments_lexer": "ipython3",
   "version": "3.9.7"
  }
 },
 "nbformat": 4,
 "nbformat_minor": 5
}
